{
 "cells": [
  {
   "attachments": {
    "image.png": {
     "image/png": "[encoded data removed]"
    }
   },
   "cell_type": "markdown",
   "metadata": {},
   "source": [
    "![image.png](attachment:image.png)\n",
    " \n",
    " # PROYECTO FINAL\n",
    " \n",
    "\n",
    "## DEEP LEARNING Y REDES NEURONAL (MIIA-4406)\n",
    "\n",
    "### Erika Marcela Angel Gordillo -201620012\n",
    "\n",
    "### Camilo E. Prada Ladino -201021153\n",
    "\n",
    "## Maestría en Inteligencia Analítica para la Toma de Decisiones (Analytics)-MIIA\n"
   ]
  },
  {
   "cell_type": "markdown",
   "metadata": {},
   "source": [
    "# Movie Genre Classification (images)\n",
    "\n",
    "Evaluation\n",
    "\n",
    "1. 10% Create a solution using both images and text with a Machine Learning algorithm\n",
    "\n",
    "2. 40% Create a solution using both images and text with a Deep Learning algorithm (CNN, transfer learning, RNN)\n",
    "\n",
    "3. 30% Presentation (5 slides)\n",
    "\n",
    "4. 20% Performance in the Kaggle competition (Normalized acording to class performance in the private leaderboard)"
   ]
  },
  {
   "cell_type": "markdown",
   "metadata": {},
   "source": [
    "## 2. CNN AND TRANSFER LEARNING"
   ]
  },
  {
   "cell_type": "markdown",
   "metadata": {},
   "source": [
    "We import here all the libraries that we need"
   ]
  },
  {
   "cell_type": "code",
   "execution_count": 1,
   "metadata": {},
   "outputs": [],
   "source": [
    "import pandas as pd\n",
    "import os\n",
    "import numpy as np\n",
    "from sklearn.preprocessing import MultiLabelBinarizer\n",
    "from sklearn.multiclass import OneVsRestClassifier\n",
    "from sklearn.ensemble import RandomForestRegressor, RandomForestClassifier\n",
    "from sklearn.metrics import r2_score, roc_auc_score\n",
    "from sklearn.model_selection import train_test_split\n",
    "from sklearn.decomposition import PCA\n",
    "import matplotlib.pyplot as plt\n",
    "from skimage import io\n",
    "from tqdm import tqdm\n",
    "import os\n",
    "%matplotlib inline"
   ]
  },
  {
   "cell_type": "code",
   "execution_count": 2,
   "metadata": {},
   "outputs": [
    {
     "name": "stderr",
     "output_type": "stream",
     "text": [
      "C:\\Users\\ERIKA ANGEL\\Anaconda3\\lib\\site-packages\\h5py\\__init__.py:36: FutureWarning: Conversion of the second argument of issubdtype from `float` to `np.floating` is deprecated. In future, it will be treated as `np.float64 == np.dtype(float).type`.\n",
      "  from ._conv import register_converters as _register_converters\n",
      "Using TensorFlow backend.\n"
     ]
    }
   ],
   "source": [
    "%matplotlib inline\n",
    "import matplotlib.pyplot as plt\n",
    "from keras.preprocessing.image import ImageDataGenerator, array_to_img, img_to_array, load_img\n",
    "from skimage import io\n",
    "import pandas as pd\n",
    "import os\n",
    "import numpy as np\n",
    "from sklearn.preprocessing import MultiLabelBinarizer\n",
    "from sklearn.multiclass import OneVsRestClassifier\n",
    "from sklearn.ensemble import RandomForestRegressor, RandomForestClassifier\n",
    "from sklearn.metrics import r2_score, roc_auc_score\n",
    "from sklearn.model_selection import train_test_split\n",
    "from sklearn.decomposition import PCA\n",
    "import matplotlib.pyplot as plt\n",
    "from skimage import io\n",
    "from tqdm import tqdm\n",
    "import os\n",
    "%matplotlib inline\n",
    "import tensorflow as tf"
   ]
  },
  {
   "cell_type": "code",
   "execution_count": 3,
   "metadata": {},
   "outputs": [],
   "source": [
    "import pandas as pd\n",
    "import os\n",
    "import numpy as np\n",
    "from skimage import io\n",
    "from sklearn.ensemble import ExtraTreesClassifier\n",
    "from sklearn.feature_extraction.text import CountVectorizer, TfidfVectorizer\n",
    "from sklearn.preprocessing import MultiLabelBinarizer\n",
    "from sklearn.multiclass import OneVsRestClassifier\n",
    "from sklearn.ensemble import RandomForestRegressor, RandomForestClassifier\n",
    "from sklearn.metrics import r2_score, roc_auc_score\n",
    "from sklearn.model_selection import train_test_split, cross_val_score\n",
    "from sklearn.naive_bayes import MultinomialNB\n",
    "from keras.datasets import imdb\n",
    "from keras.models import Sequential\n",
    "from keras.layers import Dense, Dropout, Activation, BatchNormalization, Flatten\n",
    "from keras.layers.recurrent import LSTM\n",
    "from keras.layers.embeddings import Embedding\n",
    "from keras.preprocessing import sequence\n",
    "from keras.callbacks import History\n",
    "from keras.utils import np_utils\n",
    "from livelossplot import PlotLossesKeras\n",
    "from keras.optimizers import RMSprop\n",
    "from nltk.stem.snowball import SnowballStemmer\n",
    "from nltk.stem import WordNetLemmatizer\n",
    "from sklearn.decomposition import PCA\n",
    "import matplotlib.pyplot as plt\n",
    "from tqdm import tqdm\n",
    "from keras.preprocessing import image\n",
    "from keras.applications.imagenet_utils import preprocess_input, decode_predictions\n",
    "from keras.preprocessing.image import ImageDataGenerator, array_to_img, img_to_array, load_img\n",
    "from keras.applications.vgg16 import VGG16\n",
    "from keras.applications.resnet50 import ResNet50\n",
    "%matplotlib inline"
   ]
  },
  {
   "cell_type": "markdown",
   "metadata": {},
   "source": [
    "# Read Data"
   ]
  },
  {
   "cell_type": "markdown",
   "metadata": {},
   "source": [
    "As you could see in the table below, the data train and test are in a csv files,so it will necesary to join The train and test images along with the labels are loaded and stored in variables in that format."
   ]
  },
  {
   "cell_type": "code",
   "execution_count": 4,
   "metadata": {},
   "outputs": [],
   "source": [
    "path='C:/Users/ERIKA ANGEL/Desktop/final/'"
   ]
  },
  {
   "cell_type": "code",
   "execution_count": 5,
   "metadata": {},
   "outputs": [],
   "source": [
    "dataTraining = pd.read_csv(os.path.join(path, 'data', 'dataTraining.csv'), encoding='UTF-8', index_col=0)\n",
    "dataTesting = pd.read_csv(os.path.join(path, 'data', 'dataTesting.csv'), encoding='UTF-8', index_col=0)"
   ]
  },
  {
   "cell_type": "code",
   "execution_count": 6,
   "metadata": {},
   "outputs": [
    {
     "data": {
      "text/html": [
       "<div>\n",
       "<style scoped>\n",
       "    .dataframe tbody tr th:only-of-type {\n",
       "        vertical-align: middle;\n",
       "    }\n",
       "\n",
       "    .dataframe tbody tr th {\n",
       "        vertical-align: top;\n",
       "    }\n",
       "\n",
       "    .dataframe thead th {\n",
       "        text-align: right;\n",
       "    }\n",
       "</style>\n",
       "<table border=\"1\" class=\"dataframe\">\n",
       "  <thead>\n",
       "    <tr style=\"text-align: right;\">\n",
       "      <th></th>\n",
       "      <th>year</th>\n",
       "      <th>title</th>\n",
       "      <th>plot</th>\n",
       "      <th>genres</th>\n",
       "      <th>rating</th>\n",
       "    </tr>\n",
       "  </thead>\n",
       "  <tbody>\n",
       "    <tr>\n",
       "      <th>3107</th>\n",
       "      <td>2003</td>\n",
       "      <td>Most</td>\n",
       "      <td>most is the story of a single father who takes...</td>\n",
       "      <td>['Short', 'Drama']</td>\n",
       "      <td>8.0</td>\n",
       "    </tr>\n",
       "    <tr>\n",
       "      <th>900</th>\n",
       "      <td>2008</td>\n",
       "      <td>How to Be a Serial Killer</td>\n",
       "      <td>a serial killer decides to teach the secrets o...</td>\n",
       "      <td>['Comedy', 'Crime', 'Horror']</td>\n",
       "      <td>5.6</td>\n",
       "    </tr>\n",
       "    <tr>\n",
       "      <th>6724</th>\n",
       "      <td>1941</td>\n",
       "      <td>A Woman's Face</td>\n",
       "      <td>in sweden ,  a female blackmailer with a disfi...</td>\n",
       "      <td>['Drama', 'Film-Noir', 'Thriller']</td>\n",
       "      <td>7.2</td>\n",
       "    </tr>\n",
       "    <tr>\n",
       "      <th>4704</th>\n",
       "      <td>1954</td>\n",
       "      <td>Executive Suite</td>\n",
       "      <td>in a friday afternoon in new york ,  the presi...</td>\n",
       "      <td>['Drama']</td>\n",
       "      <td>7.4</td>\n",
       "    </tr>\n",
       "    <tr>\n",
       "      <th>2582</th>\n",
       "      <td>1990</td>\n",
       "      <td>Narrow Margin</td>\n",
       "      <td>in los angeles ,  the editor of a publishing h...</td>\n",
       "      <td>['Action', 'Crime', 'Thriller']</td>\n",
       "      <td>6.6</td>\n",
       "    </tr>\n",
       "  </tbody>\n",
       "</table>\n",
       "</div>"
      ],
      "text/plain": [
       "      year                      title  \\\n",
       "3107  2003                       Most   \n",
       "900   2008  How to Be a Serial Killer   \n",
       "6724  1941             A Woman's Face   \n",
       "4704  1954            Executive Suite   \n",
       "2582  1990              Narrow Margin   \n",
       "\n",
       "                                                   plot  \\\n",
       "3107  most is the story of a single father who takes...   \n",
       "900   a serial killer decides to teach the secrets o...   \n",
       "6724  in sweden ,  a female blackmailer with a disfi...   \n",
       "4704  in a friday afternoon in new york ,  the presi...   \n",
       "2582  in los angeles ,  the editor of a publishing h...   \n",
       "\n",
       "                                  genres  rating  \n",
       "3107                  ['Short', 'Drama']     8.0  \n",
       "900        ['Comedy', 'Crime', 'Horror']     5.6  \n",
       "6724  ['Drama', 'Film-Noir', 'Thriller']     7.2  \n",
       "4704                           ['Drama']     7.4  \n",
       "2582     ['Action', 'Crime', 'Thriller']     6.6  "
      ]
     },
     "execution_count": 6,
     "metadata": {},
     "output_type": "execute_result"
    }
   ],
   "source": [
    "dataTraining.head()"
   ]
  },
  {
   "cell_type": "code",
   "execution_count": 7,
   "metadata": {},
   "outputs": [
    {
     "data": {
      "text/html": [
       "<div>\n",
       "<style scoped>\n",
       "    .dataframe tbody tr th:only-of-type {\n",
       "        vertical-align: middle;\n",
       "    }\n",
       "\n",
       "    .dataframe tbody tr th {\n",
       "        vertical-align: top;\n",
       "    }\n",
       "\n",
       "    .dataframe thead th {\n",
       "        text-align: right;\n",
       "    }\n",
       "</style>\n",
       "<table border=\"1\" class=\"dataframe\">\n",
       "  <thead>\n",
       "    <tr style=\"text-align: right;\">\n",
       "      <th></th>\n",
       "      <th>year</th>\n",
       "      <th>title</th>\n",
       "      <th>plot</th>\n",
       "    </tr>\n",
       "  </thead>\n",
       "  <tbody>\n",
       "    <tr>\n",
       "      <th>1</th>\n",
       "      <td>1999</td>\n",
       "      <td>Message in a Bottle</td>\n",
       "      <td>who meets by fate ,  shall be sealed by fate ....</td>\n",
       "    </tr>\n",
       "    <tr>\n",
       "      <th>4</th>\n",
       "      <td>1978</td>\n",
       "      <td>Midnight Express</td>\n",
       "      <td>the true story of billy hayes ,  an american c...</td>\n",
       "    </tr>\n",
       "    <tr>\n",
       "      <th>5</th>\n",
       "      <td>1996</td>\n",
       "      <td>Primal Fear</td>\n",
       "      <td>martin vail left the chicago da ' s office to ...</td>\n",
       "    </tr>\n",
       "    <tr>\n",
       "      <th>6</th>\n",
       "      <td>1950</td>\n",
       "      <td>Crisis</td>\n",
       "      <td>husband and wife americans dr .  eugene and mr...</td>\n",
       "    </tr>\n",
       "    <tr>\n",
       "      <th>7</th>\n",
       "      <td>1959</td>\n",
       "      <td>The Tingler</td>\n",
       "      <td>the coroner and scientist dr .  warren chapin ...</td>\n",
       "    </tr>\n",
       "  </tbody>\n",
       "</table>\n",
       "</div>"
      ],
      "text/plain": [
       "   year                title  \\\n",
       "1  1999  Message in a Bottle   \n",
       "4  1978     Midnight Express   \n",
       "5  1996          Primal Fear   \n",
       "6  1950               Crisis   \n",
       "7  1959          The Tingler   \n",
       "\n",
       "                                                plot  \n",
       "1  who meets by fate ,  shall be sealed by fate ....  \n",
       "4  the true story of billy hayes ,  an american c...  \n",
       "5  martin vail left the chicago da ' s office to ...  \n",
       "6  husband and wife americans dr .  eugene and mr...  \n",
       "7  the coroner and scientist dr .  warren chapin ...  "
      ]
     },
     "execution_count": 7,
     "metadata": {},
     "output_type": "execute_result"
    }
   ],
   "source": [
    "dataTesting.head()"
   ]
  },
  {
   "cell_type": "markdown",
   "metadata": {},
   "source": [
    "With the train and test data specified in the csv files below, they are used to divide the data into test and train imagenes respectively."
   ]
  },
  {
   "cell_type": "code",
   "execution_count": 7,
   "metadata": {},
   "outputs": [],
   "source": [
    "import PIL\n",
    "from PIL import Image\n",
    "import glob\n",
    "import piexif\n",
    "\n",
    "def images_train(path,genres, px):  \n",
    "    img = Image.open(path)\n",
    "    img = img.resize(px)\n",
    "    image = np.array(img)\n",
    "    X_train.append(image)\n",
    "    y_train.append(np.array([genres]))\n",
    "    \n",
    "def images_test(path,genres, px):  \n",
    "    img = Image.open(path)\n",
    "    img = img.resize(px)\n",
    "    image = np.array(img)\n",
    "    X_test.append(image)\n",
    "    y_test.append(np.array([genres])) "
   ]
  },
  {
   "cell_type": "code",
   "execution_count": 12,
   "metadata": {},
   "outputs": [],
   "source": [
    "dataTraining['genres'] = dataTraining['genres'].map(lambda x: eval(x))\n",
    "le = MultiLabelBinarizer()\n",
    "y_genres = le.fit_transform(dataTraining['genres'])"
   ]
  },
  {
   "cell_type": "code",
   "execution_count": 9,
   "metadata": {},
   "outputs": [
    {
     "data": {
      "text/plain": [
       "(7895, 24)"
      ]
     },
     "execution_count": 9,
     "metadata": {},
     "output_type": "execute_result"
    }
   ],
   "source": [
    "y_genres.shape"
   ]
  },
  {
   "cell_type": "code",
   "execution_count": 10,
   "metadata": {},
   "outputs": [],
   "source": [
    "X_train = []\n",
    "y_train = []\n",
    "for i in dataTraining.index:\n",
    "    images_train(os.path.join(path, 'images_resize_gray/', str(i) + '_resize_gray.jpeg'),0,(150,150))\n",
    "   "
   ]
  },
  {
   "cell_type": "code",
   "execution_count": 11,
   "metadata": {},
   "outputs": [],
   "source": [
    "X_test = []\n",
    "y_test = []\n",
    "for i in dataTesting.index:\n",
    "    images_test(os.path.join(path, 'images_resize_gray/', str(i) + '_resize_gray.jpeg'),0,(150,150))"
   ]
  },
  {
   "cell_type": "code",
   "execution_count": 12,
   "metadata": {},
   "outputs": [
    {
     "data": {
      "text/plain": [
       "((7895, 150, 150), (7895, 1))"
      ]
     },
     "execution_count": 12,
     "metadata": {},
     "output_type": "execute_result"
    }
   ],
   "source": [
    "X_train = np.array(X_train)\n",
    "y_train = np.array(y_train)\n",
    "X_train.shape, y_train.shape"
   ]
  },
  {
   "cell_type": "code",
   "execution_count": 13,
   "metadata": {},
   "outputs": [
    {
     "data": {
      "text/plain": [
       "((3383, 150, 150), (3383, 1))"
      ]
     },
     "execution_count": 13,
     "metadata": {},
     "output_type": "execute_result"
    }
   ],
   "source": [
    "X_test = np.array(X_test)\n",
    "y_test = np.array(y_test)\n",
    "X_test.shape, y_test.shape"
   ]
  },
  {
   "cell_type": "markdown",
   "metadata": {},
   "source": [
    "From the above output, you can see that the training data has a shape of 11278 x 150 x 150 since there are 11278 training samples each of 150 x 150 dimension. Similarly, the test data has a shape of 3383 x 150 x 150 since there are 3383 testing samples."
   ]
  },
  {
   "cell_type": "markdown",
   "metadata": {},
   "source": [
    "Now we need to convert the class labels into a one-hot encoding vector.\n",
    "In one-hot encoding, we convert the categorical data into a vector of numbers. The reason why we convert the categorical data in one hot encoding is that machine learning algorithms cannot work with categorical data directly. we generate one boolean column for each category or class. Only one of these columns could take on the value 1 for each sample. Hence, the term one-hot encoding.\n",
    "\n",
    "For our problem statement, the one hot encoding will be a row vector, and for each image, it will have a dimension of 1 x 24. The important thing to note here is that the vector consists of all zeros except for the class that it represents, and for that, it is 1. For example, the ankle boot image that we plotted above has a label of 24."
   ]
  },
  {
   "cell_type": "code",
   "execution_count": 14,
   "metadata": {},
   "outputs": [],
   "source": [
    "from keras.utils import to_categorical\n",
    "nb_classes = 24\n",
    "y_train = to_categorical(y_train,nb_classes)\n",
    "y_test = to_categorical(y_test,nb_classes)"
   ]
  },
  {
   "cell_type": "code",
   "execution_count": 15,
   "metadata": {},
   "outputs": [
    {
     "name": "stdout",
     "output_type": "stream",
     "text": [
      "Original label: [1. 0. 0. 0. 0. 0. 0. 0. 0. 0. 0. 0. 0. 0. 0. 0. 0. 0. 0. 0. 0. 0. 0. 0.]\n"
     ]
    }
   ],
   "source": [
    "print('Original label:', y_train [0])"
   ]
  },
  {
   "cell_type": "markdown",
   "metadata": {},
   "source": [
    "## images"
   ]
  },
  {
   "cell_type": "markdown",
   "metadata": {},
   "source": [
    "As you could see in the above plot, the images are grayscale images have pixel values that range from 0 to 255. Also, these images have a dimension of 150 x 150. As a result, we need to preprocess the data before you feed it into the model"
   ]
  },
  {
   "cell_type": "code",
   "execution_count": 16,
   "metadata": {},
   "outputs": [
    {
     "data": {
      "text/plain": [
       "<matplotlib.image.AxesImage at 0x18f93a64c88>"
      ]
     },
     "execution_count": 16,
     "metadata": {},
     "output_type": "execute_result"
    },
    {
     "data": {
      "image/png": "[encoded data removed]",
      "text/plain": [
       "<matplotlib.figure.Figure at 0x18f927165c0>"
      ]
     },
     "metadata": {},
     "output_type": "display_data"
    }
   ],
   "source": [
    "import tensorflow as tf\n",
    "import matplotlib.pyplot as plt\n",
    "from keras.preprocessing.image import ImageDataGenerator, array_to_img, img_to_array, load_img\n",
    "\n",
    "img = load_img('images_resize_gray/0_resize_gray.jpeg')  # this is a PIL image\n",
    "x = img_to_array(img)  # this is a Numpy array with shape (3, 150, 150)\n",
    "plt.imshow(img)"
   ]
  },
  {
   "cell_type": "code",
   "execution_count": 17,
   "metadata": {},
   "outputs": [
    {
     "name": "stdout",
     "output_type": "stream",
     "text": [
      "Training data shape :  (7895, 150, 150) (7895, 24)\n",
      "Testing data shape :  (3383, 150, 150) (3383, 24)\n"
     ]
    }
   ],
   "source": [
    "import numpy as np\n",
    "from keras.utils import to_categorical\n",
    "import matplotlib.pyplot as plt\n",
    "%matplotlib inline\n",
    "\n",
    "print('Training data shape : ', X_train.shape, y_train.shape)\n",
    "\n",
    "print('Testing data shape : ', X_test.shape, y_test.shape)"
   ]
  },
  {
   "cell_type": "markdown",
   "metadata": {},
   "source": [
    "As a first step, convert each 150 x 150 image of the train and test set into a matrix of size 150 x 150 x 1 which is fed into the network."
   ]
  },
  {
   "cell_type": "code",
   "execution_count": 18,
   "metadata": {},
   "outputs": [
    {
     "data": {
      "text/plain": [
       "((7895, 150, 150, 1), (3383, 150, 150, 1))"
      ]
     },
     "execution_count": 18,
     "metadata": {},
     "output_type": "execute_result"
    }
   ],
   "source": [
    "X_train = X_train.reshape(-1, 150,150, 1)\n",
    "X_test = X_test.reshape(-1, 150,150, 1)\n",
    "X_train.shape, X_test.shape"
   ]
  },
  {
   "cell_type": "markdown",
   "metadata": {},
   "source": [
    "The data right now is in an int8 format, so before we feed it into the network we need to convert its type to float32, and also have to rescale the pixel values in range 0 - 1 inclusive. "
   ]
  },
  {
   "cell_type": "code",
   "execution_count": 19,
   "metadata": {},
   "outputs": [],
   "source": [
    "X_train = X_train.astype('float32')\n",
    "X_test = X_test.astype('float32')\n",
    "X_train = X_train / 255.\n",
    "X_test = X_test / 255."
   ]
  },
  {
   "cell_type": "code",
   "execution_count": 20,
   "metadata": {},
   "outputs": [
    {
     "data": {
      "text/plain": [
       "((7895, 150, 150, 1), (3383, 24), (7895, 24), (3383, 24))"
      ]
     },
     "execution_count": 20,
     "metadata": {},
     "output_type": "execute_result"
    }
   ],
   "source": [
    "X_train.shape,y_test.shape,y_train.shape,y_test.shape"
   ]
  },
  {
   "cell_type": "markdown",
   "metadata": {},
   "source": [
    "## CNN\n",
    "\n",
    "The Network\n",
    "\n",
    "The images are of size 150 x 150. You convert the image matrix to an array, rescale it between 0 and 1, reshape it so that it's of size 150 x 150 x 1, and feed this as an input to the network.\n",
    "\n",
    "We use three convolutional layers:\n",
    "\n",
    "The first layer will have 32-3 x 3 filters,\n",
    "The second layer will have 64-3 x 3 filters and\n",
    "The third layer will have 128-3 x 3 filters.\n",
    "In addition, there are three max-pooling layers each of size 2 x 2."
   ]
  },
  {
   "cell_type": "code",
   "execution_count": 21,
   "metadata": {},
   "outputs": [],
   "source": [
    "import keras\n",
    "from keras.models import Sequential,Input,Model\n",
    "from keras.layers import Dense, Dropout, Flatten\n",
    "from keras.layers import Conv2D, MaxPooling2D\n",
    "from keras.layers.normalization import BatchNormalization\n",
    "from keras.layers.advanced_activations import LeakyReLU"
   ]
  },
  {
   "cell_type": "code",
   "execution_count": 22,
   "metadata": {},
   "outputs": [],
   "source": [
    "batch_size = 35\n",
    "epochs = 2\n",
    "num_classes = 24"
   ]
  },
  {
   "cell_type": "raw",
   "metadata": {},
   "source": [
    "fashion_model = Sequential()\n",
    "fashion_model.add(Conv2D(32, kernel_size=(3, 3),activation='linear',input_shape=(150,150,1),padding='same'))\n",
    "fashion_model.add(LeakyReLU(alpha=0.1))\n",
    "fashion_model.add(MaxPooling2D((2, 2),padding='same'))\n",
    "fashion_model.add(Conv2D(64, (3, 3), activation='linear',padding='same'))\n",
    "fashion_model.add(LeakyReLU(alpha=0.1))\n",
    "fashion_model.add(MaxPooling2D(pool_size=(2, 2),padding='same'))\n",
    "fashion_model.add(Conv2D(128, (3, 3), activation='linear',padding='same'))\n",
    "fashion_model.add(LeakyReLU(alpha=0.1))                  \n",
    "fashion_model.add(MaxPooling2D(pool_size=(2, 2),padding='same'))\n",
    "fashion_model.add(Flatten())\n",
    "fashion_model.add(Dense(128, activation='linear'))\n",
    "fashion_model.add(LeakyReLU(alpha=0.1))                  \n",
    "fashion_model.add(Dense(num_classes, activation='softmax'))"
   ]
  },
  {
   "cell_type": "code",
   "execution_count": 24,
   "metadata": {},
   "outputs": [],
   "source": [
    "fashion_model.compile(loss=keras.losses.categorical_crossentropy, optimizer=keras.optimizers. SGD(),metrics=['accuracy'])"
   ]
  },
  {
   "cell_type": "code",
   "execution_count": 25,
   "metadata": {},
   "outputs": [
    {
     "name": "stdout",
     "output_type": "stream",
     "text": [
      "_________________________________________________________________\n",
      "Layer (type)                 Output Shape              Param #   \n",
      "=================================================================\n",
      "conv2d_1 (Conv2D)            (None, 150, 150, 32)      320       \n",
      "_________________________________________________________________\n",
      "leaky_re_lu_1 (LeakyReLU)    (None, 150, 150, 32)      0         \n",
      "_________________________________________________________________\n",
      "max_pooling2d_1 (MaxPooling2 (None, 75, 75, 32)        0         \n",
      "_________________________________________________________________\n",
      "conv2d_2 (Conv2D)            (None, 75, 75, 64)        18496     \n",
      "_________________________________________________________________\n",
      "leaky_re_lu_2 (LeakyReLU)    (None, 75, 75, 64)        0         \n",
      "_________________________________________________________________\n",
      "max_pooling2d_2 (MaxPooling2 (None, 38, 38, 64)        0         \n",
      "_________________________________________________________________\n",
      "conv2d_3 (Conv2D)            (None, 38, 38, 128)       73856     \n",
      "_________________________________________________________________\n",
      "leaky_re_lu_3 (LeakyReLU)    (None, 38, 38, 128)       0         \n",
      "_________________________________________________________________\n",
      "max_pooling2d_3 (MaxPooling2 (None, 19, 19, 128)       0         \n",
      "_________________________________________________________________\n",
      "flatten_1 (Flatten)          (None, 46208)             0         \n",
      "_________________________________________________________________\n",
      "dense_1 (Dense)              (None, 128)               5914752   \n",
      "_________________________________________________________________\n",
      "leaky_re_lu_4 (LeakyReLU)    (None, 128)               0         \n",
      "_________________________________________________________________\n",
      "dense_2 (Dense)              (None, 24)                3096      \n",
      "=================================================================\n",
      "Total params: 6,010,520\n",
      "Trainable params: 6,010,520\n",
      "Non-trainable params: 0\n",
      "_________________________________________________________________\n"
     ]
    }
   ],
   "source": [
    "fashion_model.summary()"
   ]
  },
  {
   "cell_type": "code",
   "execution_count": 26,
   "metadata": {},
   "outputs": [
    {
     "name": "stdout",
     "output_type": "stream",
     "text": [
      "Train on 7895 samples, validate on 3383 samples\n",
      "Epoch 1/2\n",
      "7105/7895 [=========================>....] - ETA: 29:14 - loss: 3.1820 - acc: 0.0000e+ - ETA: 20:27 - loss: 2.8789 - acc: 0.5000   - ETA: 16:48 - loss: 2.5530 - acc: 0.66 - ETA: 15:20 - loss: 2.0776 - acc: 0.75 - ETA: 14:24 - loss: 1.6879 - acc: 0.80 - ETA: 13:49 - loss: 1.4257 - acc: 0.83 - ETA: 13:27 - loss: 1.2299 - acc: 0.85 - ETA: 13:02 - loss: 1.0836 - acc: 0.87 - ETA: 12:37 - loss: 0.9660 - acc: 0.88 - ETA: 12:16 - loss: 0.8719 - acc: 0.90 - ETA: 11:57 - loss: 0.7947 - acc: 0.90 - ETA: 11:40 - loss: 0.7294 - acc: 0.91 - ETA: 11:35 - loss: 0.6743 - acc: 0.92 - ETA: 11:25 - loss: 0.6272 - acc: 0.92 - ETA: 11:16 - loss: 0.5861 - acc: 0.93 - ETA: 11:09 - loss: 0.5504 - acc: 0.93 - ETA: 11:02 - loss: 0.5185 - acc: 0.94 - ETA: 10:56 - loss: 0.4910 - acc: 0.94 - ETA: 10:53 - loss: 0.4654 - acc: 0.94 - ETA: 10:48 - loss: 0.4423 - acc: 0.95 - ETA: 10:42 - loss: 0.4217 - acc: 0.95 - ETA: 10:37 - loss: 0.4028 - acc: 0.95 - ETA: 10:32 - loss: 0.3854 - acc: 0.95 - ETA: 10:29 - loss: 0.3697 - acc: 0.95 - ETA: 10:24 - loss: 0.3560 - acc: 0.96 - ETA: 10:19 - loss: 0.3430 - acc: 0.96 - ETA: 10:14 - loss: 0.3304 - acc: 0.96 - ETA: 10:09 - loss: 0.3188 - acc: 0.96 - ETA: 10:05 - loss: 0.3079 - acc: 0.96 - ETA: 10:02 - loss: 0.2978 - acc: 0.96 - ETA: 9:57 - loss: 0.2883 - acc: 0.9677 - ETA: 9:52 - loss: 0.2794 - acc: 0.968 - ETA: 9:47 - loss: 0.2712 - acc: 0.969 - ETA: 9:41 - loss: 0.2632 - acc: 0.970 - ETA: 9:39 - loss: 0.2558 - acc: 0.971 - ETA: 9:35 - loss: 0.2488 - acc: 0.972 - ETA: 9:31 - loss: 0.2422 - acc: 0.973 - ETA: 9:27 - loss: 0.2360 - acc: 0.973 - ETA: 9:22 - loss: 0.2300 - acc: 0.974 - ETA: 9:18 - loss: 0.2244 - acc: 0.975 - ETA: 9:16 - loss: 0.2190 - acc: 0.975 - ETA: 9:13 - loss: 0.2138 - acc: 0.976 - ETA: 9:10 - loss: 0.2090 - acc: 0.976 - ETA: 9:07 - loss: 0.2043 - acc: 0.977 - ETA: 9:03 - loss: 0.1997 - acc: 0.977 - ETA: 9:00 - loss: 0.1954 - acc: 0.978 - ETA: 8:56 - loss: 0.1913 - acc: 0.978 - ETA: 8:52 - loss: 0.1874 - acc: 0.979 - ETA: 8:48 - loss: 0.1836 - acc: 0.979 - ETA: 8:44 - loss: 0.1799 - acc: 0.980 - ETA: 8:40 - loss: 0.1765 - acc: 0.980 - ETA: 8:37 - loss: 0.1731 - acc: 0.980 - ETA: 8:34 - loss: 0.1699 - acc: 0.981 - ETA: 8:31 - loss: 0.1668 - acc: 0.981 - ETA: 8:27 - loss: 0.1638 - acc: 0.981 - ETA: 8:24 - loss: 0.1610 - acc: 0.982 - ETA: 8:20 - loss: 0.1584 - acc: 0.982 - ETA: 8:17 - loss: 0.1557 - acc: 0.982 - ETA: 8:13 - loss: 0.1531 - acc: 0.983 - ETA: 8:12 - loss: 0.1505 - acc: 0.983 - ETA: 8:09 - loss: 0.1481 - acc: 0.983 - ETA: 8:06 - loss: 0.1458 - acc: 0.983 - ETA: 8:04 - loss: 0.1435 - acc: 0.984 - ETA: 8:01 - loss: 0.1413 - acc: 0.984 - ETA: 7:57 - loss: 0.1391 - acc: 0.984 - ETA: 7:53 - loss: 0.1370 - acc: 0.984 - ETA: 7:49 - loss: 0.1350 - acc: 0.985 - ETA: 7:45 - loss: 0.1330 - acc: 0.985 - ETA: 7:42 - loss: 0.1312 - acc: 0.985 - ETA: 7:38 - loss: 0.1293 - acc: 0.985 - ETA: 7:35 - loss: 0.1275 - acc: 0.985 - ETA: 7:31 - loss: 0.1257 - acc: 0.986 - ETA: 7:28 - loss: 0.1240 - acc: 0.986 - ETA: 7:26 - loss: 0.1224 - acc: 0.986 - ETA: 7:23 - loss: 0.1208 - acc: 0.986 - ETA: 7:21 - loss: 0.1192 - acc: 0.986 - ETA: 7:18 - loss: 0.1177 - acc: 0.987 - ETA: 7:14 - loss: 0.1162 - acc: 0.987 - ETA: 7:12 - loss: 0.1147 - acc: 0.987 - ETA: 7:09 - loss: 0.1133 - acc: 0.987 - ETA: 7:06 - loss: 0.1119 - acc: 0.987 - ETA: 7:04 - loss: 0.1106 - acc: 0.987 - ETA: 7:01 - loss: 0.1093 - acc: 0.988 - ETA: 6:59 - loss: 0.1080 - acc: 0.988 - ETA: 6:56 - loss: 0.1067 - acc: 0.988 - ETA: 6:53 - loss: 0.1055 - acc: 0.988 - ETA: 6:50 - loss: 0.1043 - acc: 0.988 - ETA: 6:47 - loss: 0.1032 - acc: 0.988 - ETA: 6:44 - loss: 0.1021 - acc: 0.988 - ETA: 6:42 - loss: 0.1010 - acc: 0.988 - ETA: 6:39 - loss: 0.0999 - acc: 0.989 - ETA: 6:35 - loss: 0.0988 - acc: 0.989 - ETA: 6:32 - loss: 0.0978 - acc: 0.989 - ETA: 6:29 - loss: 0.0967 - acc: 0.989 - ETA: 6:26 - loss: 0.0957 - acc: 0.989 - ETA: 6:24 - loss: 0.0947 - acc: 0.989 - ETA: 6:21 - loss: 0.0938 - acc: 0.989 - ETA: 6:17 - loss: 0.0929 - acc: 0.989 - ETA: 6:14 - loss: 0.0919 - acc: 0.989 - ETA: 6:11 - loss: 0.0910 - acc: 0.990 - ETA: 6:09 - loss: 0.0901 - acc: 0.990 - ETA: 6:05 - loss: 0.0892 - acc: 0.990 - ETA: 6:03 - loss: 0.0884 - acc: 0.990 - ETA: 6:00 - loss: 0.0876 - acc: 0.990 - ETA: 5:57 - loss: 0.0868 - acc: 0.990 - ETA: 5:55 - loss: 0.0859 - acc: 0.990 - ETA: 5:52 - loss: 0.0852 - acc: 0.990 - ETA: 5:49 - loss: 0.0844 - acc: 0.990 - ETA: 5:45 - loss: 0.0836 - acc: 0.990 - ETA: 5:42 - loss: 0.0829 - acc: 0.990 - ETA: 5:39 - loss: 0.0821 - acc: 0.991 - ETA: 5:36 - loss: 0.0814 - acc: 0.991 - ETA: 5:33 - loss: 0.0807 - acc: 0.991 - ETA: 5:30 - loss: 0.0800 - acc: 0.991 - ETA: 5:27 - loss: 0.0793 - acc: 0.991 - ETA: 5:25 - loss: 0.0786 - acc: 0.991 - ETA: 5:22 - loss: 0.0779 - acc: 0.991 - ETA: 5:19 - loss: 0.0773 - acc: 0.991 - ETA: 5:16 - loss: 0.0766 - acc: 0.991 - ETA: 5:13 - loss: 0.0760 - acc: 0.991 - ETA: 5:10 - loss: 0.0754 - acc: 0.991 - ETA: 5:07 - loss: 0.0748 - acc: 0.991 - ETA: 5:04 - loss: 0.0742 - acc: 0.991 - ETA: 5:02 - loss: 0.0736 - acc: 0.991 - ETA: 4:59 - loss: 0.0730 - acc: 0.992 - ETA: 4:56 - loss: 0.0724 - acc: 0.992 - ETA: 4:54 - loss: 0.0719 - acc: 0.992 - ETA: 4:51 - loss: 0.0713 - acc: 0.992 - ETA: 4:48 - loss: 0.0708 - acc: 0.992 - ETA: 4:45 - loss: 0.0702 - acc: 0.992 - ETA: 4:42 - loss: 0.0697 - acc: 0.992 - ETA: 4:39 - loss: 0.0692 - acc: 0.992 - ETA: 4:36 - loss: 0.0686 - acc: 0.992 - ETA: 4:33 - loss: 0.0681 - acc: 0.992 - ETA: 4:30 - loss: 0.0676 - acc: 0.992 - ETA: 4:27 - loss: 0.0671 - acc: 0.992 - ETA: 4:24 - loss: 0.0666 - acc: 0.992 - ETA: 4:21 - loss: 0.0662 - acc: 0.992 - ETA: 4:18 - loss: 0.0657 - acc: 0.992 - ETA: 4:15 - loss: 0.0652 - acc: 0.992 - ETA: 4:13 - loss: 0.0648 - acc: 0.992 - ETA: 4:10 - loss: 0.0643 - acc: 0.993 - ETA: 4:07 - loss: 0.0639 - acc: 0.993 - ETA: 4:04 - loss: 0.0634 - acc: 0.993 - ETA: 4:01 - loss: 0.0630 - acc: 0.993 - ETA: 3:58 - loss: 0.0626 - acc: 0.993 - ETA: 3:55 - loss: 0.0622 - acc: 0.993 - ETA: 3:52 - loss: 0.0617 - acc: 0.993 - ETA: 3:49 - loss: 0.0613 - acc: 0.993 - ETA: 3:46 - loss: 0.0609 - acc: 0.993 - ETA: 3:43 - loss: 0.0605 - acc: 0.993 - ETA: 3:40 - loss: 0.0601 - acc: 0.993 - ETA: 3:37 - loss: 0.0597 - acc: 0.993 - ETA: 3:34 - loss: 0.0594 - acc: 0.993 - ETA: 3:31 - loss: 0.0590 - acc: 0.993 - ETA: 3:28 - loss: 0.0586 - acc: 0.993 - ETA: 3:25 - loss: 0.0582 - acc: 0.993 - ETA: 3:22 - loss: 0.0579 - acc: 0.993 - ETA: 3:19 - loss: 0.0575 - acc: 0.993 - ETA: 3:16 - loss: 0.0571 - acc: 0.993 - ETA: 3:13 - loss: 0.0568 - acc: 0.993 - ETA: 3:10 - loss: 0.0564 - acc: 0.993 - ETA: 3:07 - loss: 0.0561 - acc: 0.993 - ETA: 3:04 - loss: 0.0558 - acc: 0.993 - ETA: 3:01 - loss: 0.0554 - acc: 0.993 - ETA: 2:58 - loss: 0.0551 - acc: 0.994 - ETA: 2:55 - loss: 0.0548 - acc: 0.994 - ETA: 2:52 - loss: 0.0545 - acc: 0.994 - ETA: 2:49 - loss: 0.0541 - acc: 0.994 - ETA: 2:46 - loss: 0.0538 - acc: 0.994 - ETA: 2:42 - loss: 0.0535 - acc: 0.994 - ETA: 2:39 - loss: 0.0532 - acc: 0.994 - ETA: 2:36 - loss: 0.0529 - acc: 0.994 - ETA: 2:33 - loss: 0.0526 - acc: 0.994 - ETA: 2:30 - loss: 0.0523 - acc: 0.994 - ETA: 2:27 - loss: 0.0520 - acc: 0.994 - ETA: 2:24 - loss: 0.0517 - acc: 0.994 - ETA: 2:21 - loss: 0.0514 - acc: 0.994 - ETA: 2:18 - loss: 0.0511 - acc: 0.994 - ETA: 2:15 - loss: 0.0508 - acc: 0.994 - ETA: 2:12 - loss: 0.0506 - acc: 0.994 - ETA: 2:09 - loss: 0.0503 - acc: 0.994 - ETA: 2:06 - loss: 0.0500 - acc: 0.994 - ETA: 2:03 - loss: 0.0498 - acc: 0.994 - ETA: 2:00 - loss: 0.0495 - acc: 0.994 - ETA: 1:57 - loss: 0.0492 - acc: 0.994 - ETA: 1:54 - loss: 0.0490 - acc: 0.994 - ETA: 1:51 - loss: 0.0487 - acc: 0.994 - ETA: 1:48 - loss: 0.0485 - acc: 0.994 - ETA: 1:45 - loss: 0.0482 - acc: 0.994 - ETA: 1:42 - loss: 0.0480 - acc: 0.994 - ETA: 1:39 - loss: 0.0477 - acc: 0.994 - ETA: 1:36 - loss: 0.0475 - acc: 0.994 - ETA: 1:33 - loss: 0.0472 - acc: 0.994 - ETA: 1:30 - loss: 0.0470 - acc: 0.994 - ETA: 1:27 - loss: 0.0468 - acc: 0.994 - ETA: 1:24 - loss: 0.0465 - acc: 0.994 - ETA: 1:21 - loss: 0.0463 - acc: 0.994 - ETA: 1:18 - loss: 0.0461 - acc: 0.995 - ETA: 1:15 - loss: 0.0458 - acc: 0.995 - ETA: 1:12 - loss: 0.0456 - acc: 0.995 - ETA: 1:09 - loss: 0.0454 - acc: 0.995 - ETA: 1:06 - loss: 0.0452 - acc: 0.9957895/7895 [==============================] - ETA: 1:03 - loss: 0.0450 - acc: 0.995 - ETA: 1:00 - loss: 0.0447 - acc: 0.995 - ETA: 57s - loss: 0.0445 - acc: 0.995 - ETA: 54s - loss: 0.0443 - acc: 0.99 - ETA: 51s - loss: 0.0441 - acc: 0.99 - ETA: 48s - loss: 0.0439 - acc: 0.99 - ETA: 45s - loss: 0.0437 - acc: 0.99 - ETA: 42s - loss: 0.0435 - acc: 0.99 - ETA: 39s - loss: 0.0433 - acc: 0.99 - ETA: 36s - loss: 0.0431 - acc: 0.99 - ETA: 34s - loss: 0.0429 - acc: 0.99 - ETA: 31s - loss: 0.0427 - acc: 0.99 - ETA: 28s - loss: 0.0425 - acc: 0.99 - ETA: 25s - loss: 0.0423 - acc: 0.99 - ETA: 22s - loss: 0.0421 - acc: 0.99 - ETA: 19s - loss: 0.0419 - acc: 0.99 - ETA: 16s - loss: 0.0417 - acc: 0.99 - ETA: 13s - loss: 0.0415 - acc: 0.99 - ETA: 10s - loss: 0.0413 - acc: 0.99 - ETA: 7s - loss: 0.0412 - acc: 0.9955 - ETA: 4s - loss: 0.0410 - acc: 0.995 - ETA: 1s - loss: 0.0408 - acc: 0.995 - 754s 96ms/step - loss: 0.0407 - acc: 0.9956 - val_loss: 4.7645e-04 - val_acc: 1.0000\n",
      "Epoch 2/2\n"
     ]
    },
    {
     "name": "stdout",
     "output_type": "stream",
     "text": [
      "6510/7895 [=======================>......] - ETA: 11:39 - loss: 3.5672e-04 - acc: 1.00 - ETA: 11:21 - loss: 2.3398e-04 - acc: 1.00 - ETA: 11:22 - loss: 5.6326e-04 - acc: 1.00 - ETA: 11:05 - loss: 4.6436e-04 - acc: 1.00 - ETA: 11:03 - loss: 4.1324e-04 - acc: 1.00 - ETA: 11:01 - loss: 3.6751e-04 - acc: 1.00 - ETA: 10:50 - loss: 3.4581e-04 - acc: 1.00 - ETA: 10:46 - loss: 3.3890e-04 - acc: 1.00 - ETA: 10:45 - loss: 3.6431e-04 - acc: 1.00 - ETA: 10:49 - loss: 3.3802e-04 - acc: 1.00 - ETA: 10:49 - loss: 4.0196e-04 - acc: 1.00 - ETA: 10:49 - loss: 3.8924e-04 - acc: 1.00 - ETA: 10:47 - loss: 3.8638e-04 - acc: 1.00 - ETA: 10:50 - loss: 3.6970e-04 - acc: 1.00 - ETA: 10:44 - loss: 4.2813e-04 - acc: 1.00 - ETA: 10:40 - loss: 4.5565e-04 - acc: 1.00 - ETA: 10:36 - loss: 5.1980e-04 - acc: 1.00 - ETA: 10:33 - loss: 5.1263e-04 - acc: 1.00 - ETA: 10:30 - loss: 4.9030e-04 - acc: 1.00 - ETA: 10:24 - loss: 4.8470e-04 - acc: 1.00 - ETA: 10:19 - loss: 4.7786e-04 - acc: 1.00 - ETA: 10:13 - loss: 4.6018e-04 - acc: 1.00 - ETA: 10:07 - loss: 4.5277e-04 - acc: 1.00 - ETA: 10:02 - loss: 4.3887e-04 - acc: 1.00 - ETA: 9:58 - loss: 4.2630e-04 - acc: 1.0000 - ETA: 9:53 - loss: 4.1570e-04 - acc: 1.000 - ETA: 9:48 - loss: 4.2575e-04 - acc: 1.000 - ETA: 9:44 - loss: 4.1398e-04 - acc: 1.000 - ETA: 9:40 - loss: 4.0564e-04 - acc: 1.000 - ETA: 9:40 - loss: 4.1931e-04 - acc: 1.000 - ETA: 9:37 - loss: 4.8462e-04 - acc: 1.000 - ETA: 9:36 - loss: 5.3358e-04 - acc: 1.000 - ETA: 9:33 - loss: 5.2000e-04 - acc: 1.000 - ETA: 9:31 - loss: 5.1603e-04 - acc: 1.000 - ETA: 9:28 - loss: 5.0290e-04 - acc: 1.000 - ETA: 9:25 - loss: 4.9393e-04 - acc: 1.000 - ETA: 9:22 - loss: 4.9599e-04 - acc: 1.000 - ETA: 9:18 - loss: 4.8754e-04 - acc: 1.000 - ETA: 9:15 - loss: 4.8580e-04 - acc: 1.000 - ETA: 9:11 - loss: 4.8155e-04 - acc: 1.000 - ETA: 9:06 - loss: 4.8392e-04 - acc: 1.000 - ETA: 9:03 - loss: 4.7707e-04 - acc: 1.000 - ETA: 8:58 - loss: 4.6736e-04 - acc: 1.000 - ETA: 8:54 - loss: 4.5878e-04 - acc: 1.000 - ETA: 8:50 - loss: 4.5613e-04 - acc: 1.000 - ETA: 8:47 - loss: 4.7180e-04 - acc: 1.000 - ETA: 8:44 - loss: 5.6596e-04 - acc: 1.000 - ETA: 8:40 - loss: 5.5481e-04 - acc: 1.000 - ETA: 8:39 - loss: 5.4760e-04 - acc: 1.000 - ETA: 8:37 - loss: 5.6934e-04 - acc: 1.000 - ETA: 8:35 - loss: 5.5899e-04 - acc: 1.000 - ETA: 8:34 - loss: 5.5203e-04 - acc: 1.000 - ETA: 8:31 - loss: 5.4242e-04 - acc: 1.000 - ETA: 8:26 - loss: 5.3754e-04 - acc: 1.000 - ETA: 8:22 - loss: 5.2944e-04 - acc: 1.000 - ETA: 8:18 - loss: 5.2489e-04 - acc: 1.000 - ETA: 8:15 - loss: 5.1654e-04 - acc: 1.000 - ETA: 8:12 - loss: 5.0809e-04 - acc: 1.000 - ETA: 8:08 - loss: 5.1219e-04 - acc: 1.000 - ETA: 8:04 - loss: 5.0780e-04 - acc: 1.000 - ETA: 8:01 - loss: 5.0064e-04 - acc: 1.000 - ETA: 7:57 - loss: 4.9839e-04 - acc: 1.000 - ETA: 7:55 - loss: 4.9194e-04 - acc: 1.000 - ETA: 7:51 - loss: 4.8527e-04 - acc: 1.000 - ETA: 7:48 - loss: 4.7929e-04 - acc: 1.000 - ETA: 7:44 - loss: 4.7402e-04 - acc: 1.000 - ETA: 7:40 - loss: 4.7081e-04 - acc: 1.000 - ETA: 7:37 - loss: 4.6869e-04 - acc: 1.000 - ETA: 7:34 - loss: 4.6633e-04 - acc: 1.000 - ETA: 7:31 - loss: 4.6145e-04 - acc: 1.000 - ETA: 7:28 - loss: 4.5718e-04 - acc: 1.000 - ETA: 7:25 - loss: 4.5202e-04 - acc: 1.000 - ETA: 7:23 - loss: 4.4604e-04 - acc: 1.000 - ETA: 7:21 - loss: 4.4520e-04 - acc: 1.000 - ETA: 7:19 - loss: 4.3946e-04 - acc: 1.000 - ETA: 7:16 - loss: 4.4747e-04 - acc: 1.000 - ETA: 7:13 - loss: 4.4216e-04 - acc: 1.000 - ETA: 7:10 - loss: 4.3807e-04 - acc: 1.000 - ETA: 7:06 - loss: 4.3485e-04 - acc: 1.000 - ETA: 7:04 - loss: 4.3037e-04 - acc: 1.000 - ETA: 7:00 - loss: 4.2730e-04 - acc: 1.000 - ETA: 6:58 - loss: 4.2240e-04 - acc: 1.000 - ETA: 6:55 - loss: 4.1828e-04 - acc: 1.000 - ETA: 6:52 - loss: 4.1421e-04 - acc: 1.000 - ETA: 6:49 - loss: 4.0974e-04 - acc: 1.000 - ETA: 6:47 - loss: 4.0895e-04 - acc: 1.000 - ETA: 6:43 - loss: 4.0598e-04 - acc: 1.000 - ETA: 6:40 - loss: 4.0463e-04 - acc: 1.000 - ETA: 6:36 - loss: 4.0183e-04 - acc: 1.000 - ETA: 6:33 - loss: 4.0256e-04 - acc: 1.000 - ETA: 6:30 - loss: 3.9926e-04 - acc: 1.000 - ETA: 6:26 - loss: 4.0628e-04 - acc: 1.000 - ETA: 6:23 - loss: 4.0279e-04 - acc: 1.000 - ETA: 6:19 - loss: 4.0101e-04 - acc: 1.000 - ETA: 6:16 - loss: 3.9866e-04 - acc: 1.000 - ETA: 6:12 - loss: 3.9510e-04 - acc: 1.000 - ETA: 6:09 - loss: 4.1074e-04 - acc: 1.000 - ETA: 6:06 - loss: 4.0801e-04 - acc: 1.000 - ETA: 6:03 - loss: 4.0589e-04 - acc: 1.000 - ETA: 6:00 - loss: 4.0595e-04 - acc: 1.000 - ETA: 5:56 - loss: 4.0215e-04 - acc: 1.000 - ETA: 5:53 - loss: 4.0128e-04 - acc: 1.000 - ETA: 5:51 - loss: 4.0527e-04 - acc: 1.000 - ETA: 5:48 - loss: 4.0158e-04 - acc: 1.000 - ETA: 5:45 - loss: 3.9850e-04 - acc: 1.000 - ETA: 5:42 - loss: 3.9763e-04 - acc: 1.000 - ETA: 5:39 - loss: 3.9404e-04 - acc: 1.000 - ETA: 5:36 - loss: 3.9167e-04 - acc: 1.000 - ETA: 5:33 - loss: 3.8864e-04 - acc: 1.000 - ETA: 5:29 - loss: 3.8693e-04 - acc: 1.000 - ETA: 5:26 - loss: 3.8533e-04 - acc: 1.000 - ETA: 5:23 - loss: 3.8262e-04 - acc: 1.000 - ETA: 5:20 - loss: 3.8002e-04 - acc: 1.000 - ETA: 5:17 - loss: 3.8091e-04 - acc: 1.000 - ETA: 5:14 - loss: 3.7893e-04 - acc: 1.000 - ETA: 5:11 - loss: 3.7787e-04 - acc: 1.000 - ETA: 5:08 - loss: 3.8120e-04 - acc: 1.000 - ETA: 5:05 - loss: 3.7867e-04 - acc: 1.000 - ETA: 5:02 - loss: 3.7950e-04 - acc: 1.000 - ETA: 4:59 - loss: 3.7687e-04 - acc: 1.000 - ETA: 4:56 - loss: 3.7451e-04 - acc: 1.000 - ETA: 4:53 - loss: 3.7258e-04 - acc: 1.000 - ETA: 4:50 - loss: 3.7038e-04 - acc: 1.000 - ETA: 4:47 - loss: 3.6862e-04 - acc: 1.000 - ETA: 4:44 - loss: 3.6578e-04 - acc: 1.000 - ETA: 4:41 - loss: 3.6826e-04 - acc: 1.000 - ETA: 4:38 - loss: 3.6653e-04 - acc: 1.000 - ETA: 4:35 - loss: 3.6571e-04 - acc: 1.000 - ETA: 4:32 - loss: 3.6318e-04 - acc: 1.000 - ETA: 4:29 - loss: 3.6506e-04 - acc: 1.000 - ETA: 4:26 - loss: 3.6422e-04 - acc: 1.000 - ETA: 4:23 - loss: 3.6215e-04 - acc: 1.000 - ETA: 4:20 - loss: 3.6317e-04 - acc: 1.000 - ETA: 4:18 - loss: 3.6159e-04 - acc: 1.000 - ETA: 4:15 - loss: 3.6097e-04 - acc: 1.000 - ETA: 4:12 - loss: 3.6077e-04 - acc: 1.000 - ETA: 4:09 - loss: 3.6010e-04 - acc: 1.000 - ETA: 4:06 - loss: 3.5845e-04 - acc: 1.000 - ETA: 4:03 - loss: 3.5656e-04 - acc: 1.000 - ETA: 4:00 - loss: 3.5745e-04 - acc: 1.000 - ETA: 3:57 - loss: 3.5554e-04 - acc: 1.000 - ETA: 3:54 - loss: 3.5324e-04 - acc: 1.000 - ETA: 3:52 - loss: 3.5142e-04 - acc: 1.000 - ETA: 3:49 - loss: 3.4925e-04 - acc: 1.000 - ETA: 3:46 - loss: 3.5063e-04 - acc: 1.000 - ETA: 3:43 - loss: 3.4889e-04 - acc: 1.000 - ETA: 3:40 - loss: 3.4703e-04 - acc: 1.000 - ETA: 3:37 - loss: 3.4554e-04 - acc: 1.000 - ETA: 3:35 - loss: 3.4368e-04 - acc: 1.000 - ETA: 3:32 - loss: 3.4638e-04 - acc: 1.000 - ETA: 3:29 - loss: 3.4455e-04 - acc: 1.000 - ETA: 3:26 - loss: 3.4265e-04 - acc: 1.000 - ETA: 3:23 - loss: 3.4443e-04 - acc: 1.000 - ETA: 3:20 - loss: 3.4241e-04 - acc: 1.000 - ETA: 3:18 - loss: 3.4212e-04 - acc: 1.000 - ETA: 3:15 - loss: 3.4402e-04 - acc: 1.000 - ETA: 3:12 - loss: 3.4207e-04 - acc: 1.000 - ETA: 3:09 - loss: 3.4059e-04 - acc: 1.000 - ETA: 3:06 - loss: 3.4288e-04 - acc: 1.000 - ETA: 3:03 - loss: 3.4121e-04 - acc: 1.000 - ETA: 3:01 - loss: 3.3922e-04 - acc: 1.000 - ETA: 2:58 - loss: 3.3786e-04 - acc: 1.000 - ETA: 2:55 - loss: 3.3616e-04 - acc: 1.000 - ETA: 2:52 - loss: 3.3488e-04 - acc: 1.000 - ETA: 2:49 - loss: 3.3417e-04 - acc: 1.000 - ETA: 2:46 - loss: 3.3347e-04 - acc: 1.000 - ETA: 2:43 - loss: 3.3309e-04 - acc: 1.000 - ETA: 2:40 - loss: 3.3220e-04 - acc: 1.000 - ETA: 2:38 - loss: 3.3054e-04 - acc: 1.000 - ETA: 2:35 - loss: 3.3163e-04 - acc: 1.000 - ETA: 2:32 - loss: 3.3012e-04 - acc: 1.000 - ETA: 2:29 - loss: 3.2839e-04 - acc: 1.000 - ETA: 2:26 - loss: 3.2707e-04 - acc: 1.000 - ETA: 2:23 - loss: 3.2552e-04 - acc: 1.000 - ETA: 2:20 - loss: 3.2432e-04 - acc: 1.000 - ETA: 2:18 - loss: 3.2262e-04 - acc: 1.000 - ETA: 2:15 - loss: 3.2117e-04 - acc: 1.000 - ETA: 2:12 - loss: 3.1975e-04 - acc: 1.000 - ETA: 2:09 - loss: 3.2063e-04 - acc: 1.000 - ETA: 2:06 - loss: 3.2175e-04 - acc: 1.000 - ETA: 2:04 - loss: 3.2224e-04 - acc: 1.000 - ETA: 2:01 - loss: 3.2080e-04 - acc: 1.000 - ETA: 1:58 - loss: 3.1951e-04 - acc: 1.000 - ETA: 1:55 - loss: 3.1809e-04 - acc: 1.000 - ETA: 1:53 - loss: 3.1679e-04 - acc: 1.000 - ETA: 1:50 - loss: 3.1528e-04 - acc: 1.0000"
     ]
    },
    {
     "name": "stdout",
     "output_type": "stream",
     "text": [
      "7895/7895 [==============================] - ETA: 1:47 - loss: 3.1570e-04 - acc: 1.000 - ETA: 1:44 - loss: 3.1739e-04 - acc: 1.000 - ETA: 1:41 - loss: 3.1603e-04 - acc: 1.000 - ETA: 1:39 - loss: 3.1450e-04 - acc: 1.000 - ETA: 1:36 - loss: 3.1697e-04 - acc: 1.000 - ETA: 1:33 - loss: 3.1547e-04 - acc: 1.000 - ETA: 1:30 - loss: 3.1469e-04 - acc: 1.000 - ETA: 1:27 - loss: 3.1336e-04 - acc: 1.000 - ETA: 1:24 - loss: 3.1228e-04 - acc: 1.000 - ETA: 1:22 - loss: 3.1078e-04 - acc: 1.000 - ETA: 1:19 - loss: 3.0981e-04 - acc: 1.000 - ETA: 1:16 - loss: 3.0836e-04 - acc: 1.000 - ETA: 1:13 - loss: 3.0687e-04 - acc: 1.000 - ETA: 1:10 - loss: 3.0630e-04 - acc: 1.000 - ETA: 1:08 - loss: 3.0553e-04 - acc: 1.000 - ETA: 1:05 - loss: 3.0488e-04 - acc: 1.000 - ETA: 1:02 - loss: 3.0369e-04 - acc: 1.000 - ETA: 1:00 - loss: 3.0259e-04 - acc: 1.000 - ETA: 57s - loss: 3.0130e-04 - acc: 1.000 - ETA: 54s - loss: 3.0038e-04 - acc: 1.00 - ETA: 51s - loss: 2.9944e-04 - acc: 1.00 - ETA: 48s - loss: 3.0013e-04 - acc: 1.00 - ETA: 46s - loss: 2.9886e-04 - acc: 1.00 - ETA: 43s - loss: 2.9802e-04 - acc: 1.00 - ETA: 40s - loss: 2.9762e-04 - acc: 1.00 - ETA: 37s - loss: 2.9643e-04 - acc: 1.00 - ETA: 35s - loss: 2.9526e-04 - acc: 1.00 - ETA: 32s - loss: 2.9463e-04 - acc: 1.00 - ETA: 29s - loss: 2.9399e-04 - acc: 1.00 - ETA: 26s - loss: 2.9383e-04 - acc: 1.00 - ETA: 23s - loss: 2.9363e-04 - acc: 1.00 - ETA: 21s - loss: 2.9242e-04 - acc: 1.00 - ETA: 18s - loss: 2.9197e-04 - acc: 1.00 - ETA: 15s - loss: 2.9291e-04 - acc: 1.00 - ETA: 12s - loss: 2.9247e-04 - acc: 1.00 - ETA: 9s - loss: 2.9156e-04 - acc: 1.0000 - ETA: 7s - loss: 2.9111e-04 - acc: 1.000 - ETA: 4s - loss: 2.9009e-04 - acc: 1.000 - ETA: 1s - loss: 2.9185e-04 - acc: 1.000 - 717s 91ms/step - loss: 2.9190e-04 - acc: 1.0000 - val_loss: 2.1265e-04 - val_acc: 1.0000\n"
     ]
    }
   ],
   "source": [
    "fashion_train = fashion_model.fit(X_train, y_train, batch_size=batch_size,epochs=epochs,verbose=1,validation_data=(X_test, y_test))"
   ]
  },
  {
   "cell_type": "code",
   "execution_count": 27,
   "metadata": {},
   "outputs": [],
   "source": [
    "test_eval = fashion_model.evaluate(X_test, y_test,verbose=0)"
   ]
  },
  {
   "cell_type": "code",
   "execution_count": 28,
   "metadata": {},
   "outputs": [
    {
     "name": "stdout",
     "output_type": "stream",
     "text": [
      "Test loss: 0.0002126450689115908\n",
      "Test accuracy: 1.0\n"
     ]
    }
   ],
   "source": [
    "print('Test loss:', test_eval[0])\n",
    "print('Test accuracy:', test_eval[1])"
   ]
  },
  {
   "cell_type": "markdown",
   "metadata": {},
   "source": [
    "the test accuracy looks good. However,  the model looked like it was overfitting. Are these results really all that good. so a Test accurancy of 1 could be a problem. for that problem we can  Adding Dropout into the Network, Dropout randomly turns off a fraction of neurons during the training process, reducing the dependency on the training set by some amount. How many fractions of neurons you want to turn off is decided by a hyperparameter, which can be tuned accordingly. This way, turning off some neurons will not allow the network to memorize the training data since not all the neurons will be active at the same time and the inactive neurons will not be able to learn anything."
   ]
  },
  {
   "cell_type": "markdown",
   "metadata": {},
   "source": [
    "## Adding Dropout into the Network"
   ]
  },
  {
   "cell_type": "code",
   "execution_count": 31,
   "metadata": {},
   "outputs": [],
   "source": [
    "batch_size = 100\n",
    "epochs = 5\n",
    "num_classes = 24"
   ]
  },
  {
   "cell_type": "code",
   "execution_count": 32,
   "metadata": {},
   "outputs": [],
   "source": [
    "fashion_model = Sequential()\n",
    "fashion_model.add(Conv2D(32, kernel_size=(3, 3),activation='linear',padding='same',input_shape=(150,150,1)))\n",
    "fashion_model.add(LeakyReLU(alpha=0.1))\n",
    "fashion_model.add(MaxPooling2D((2, 2),padding='same'))\n",
    "fashion_model.add(Dropout(0.25))\n",
    "fashion_model.add(Conv2D(64, (3, 3), activation='linear',padding='same'))\n",
    "fashion_model.add(LeakyReLU(alpha=0.1))\n",
    "fashion_model.add(MaxPooling2D(pool_size=(2, 2),padding='same'))\n",
    "fashion_model.add(Dropout(0.25))\n",
    "fashion_model.add(Conv2D(128, (3, 3), activation='linear',padding='same'))\n",
    "fashion_model.add(LeakyReLU(alpha=0.1))                  \n",
    "fashion_model.add(MaxPooling2D(pool_size=(2, 2),padding='same'))\n",
    "fashion_model.add(Dropout(0.4))\n",
    "fashion_model.add(Flatten())\n",
    "fashion_model.add(Dense(128, activation='linear'))\n",
    "fashion_model.add(LeakyReLU(alpha=0.1))           \n",
    "fashion_model.add(Dropout(0.3))\n",
    "fashion_model.add(Dense(num_classes, activation='softmax'))"
   ]
  },
  {
   "cell_type": "code",
   "execution_count": 33,
   "metadata": {},
   "outputs": [
    {
     "name": "stdout",
     "output_type": "stream",
     "text": [
      "_________________________________________________________________\n",
      "Layer (type)                 Output Shape              Param #   \n",
      "=================================================================\n",
      "conv2d_7 (Conv2D)            (None, 150, 150, 32)      320       \n",
      "_________________________________________________________________\n",
      "leaky_re_lu_9 (LeakyReLU)    (None, 150, 150, 32)      0         \n",
      "_________________________________________________________________\n",
      "max_pooling2d_7 (MaxPooling2 (None, 75, 75, 32)        0         \n",
      "_________________________________________________________________\n",
      "dropout_5 (Dropout)          (None, 75, 75, 32)        0         \n",
      "_________________________________________________________________\n",
      "conv2d_8 (Conv2D)            (None, 75, 75, 64)        18496     \n",
      "_________________________________________________________________\n",
      "leaky_re_lu_10 (LeakyReLU)   (None, 75, 75, 64)        0         \n",
      "_________________________________________________________________\n",
      "max_pooling2d_8 (MaxPooling2 (None, 38, 38, 64)        0         \n",
      "_________________________________________________________________\n",
      "dropout_6 (Dropout)          (None, 38, 38, 64)        0         \n",
      "_________________________________________________________________\n",
      "conv2d_9 (Conv2D)            (None, 38, 38, 128)       73856     \n",
      "_________________________________________________________________\n",
      "leaky_re_lu_11 (LeakyReLU)   (None, 38, 38, 128)       0         \n",
      "_________________________________________________________________\n",
      "max_pooling2d_9 (MaxPooling2 (None, 19, 19, 128)       0         \n",
      "_________________________________________________________________\n",
      "dropout_7 (Dropout)          (None, 19, 19, 128)       0         \n",
      "_________________________________________________________________\n",
      "flatten_3 (Flatten)          (None, 46208)             0         \n",
      "_________________________________________________________________\n",
      "dense_5 (Dense)              (None, 128)               5914752   \n",
      "_________________________________________________________________\n",
      "leaky_re_lu_12 (LeakyReLU)   (None, 128)               0         \n",
      "_________________________________________________________________\n",
      "dropout_8 (Dropout)          (None, 128)               0         \n",
      "_________________________________________________________________\n",
      "dense_6 (Dense)              (None, 24)                3096      \n",
      "=================================================================\n",
      "Total params: 6,010,520\n",
      "Trainable params: 6,010,520\n",
      "Non-trainable params: 0\n",
      "_________________________________________________________________\n"
     ]
    }
   ],
   "source": [
    "fashion_model.summary()"
   ]
  },
  {
   "cell_type": "code",
   "execution_count": 34,
   "metadata": {},
   "outputs": [],
   "source": [
    "fashion_model.compile(loss=keras.losses.categorical_crossentropy, optimizer=keras.optimizers.Adam(),metrics=['accuracy'])"
   ]
  },
  {
   "cell_type": "code",
   "execution_count": 35,
   "metadata": {},
   "outputs": [
    {
     "name": "stdout",
     "output_type": "stream",
     "text": [
      "Train on 7895 samples, validate on 3383 samples\n",
      "Epoch 1/5\n",
      "7895/7895 [==============================] - ETA: 24:04 - loss: 3.1907 - acc: 0.04 - ETA: 23:34 - loss: 1.6036 - acc: 0.52 - ETA: 22:44 - loss: 1.0692 - acc: 0.68 - ETA: 21:41 - loss: 0.8019 - acc: 0.76 - ETA: 19:51 - loss: 0.6415 - acc: 0.80 - ETA: 18:50 - loss: 0.5346 - acc: 0.84 - ETA: 18:14 - loss: 0.4582 - acc: 0.86 - ETA: 17:18 - loss: 0.4009 - acc: 0.88 - ETA: 16:30 - loss: 0.3564 - acc: 0.89 - ETA: 15:56 - loss: 0.3208 - acc: 0.90 - ETA: 15:27 - loss: 0.2916 - acc: 0.91 - ETA: 15:00 - loss: 0.2673 - acc: 0.92 - ETA: 14:34 - loss: 0.2467 - acc: 0.92 - ETA: 14:05 - loss: 0.2291 - acc: 0.93 - ETA: 13:40 - loss: 0.2138 - acc: 0.93 - ETA: 13:15 - loss: 0.2005 - acc: 0.94 - ETA: 12:55 - loss: 0.1887 - acc: 0.94 - ETA: 12:36 - loss: 0.1782 - acc: 0.94 - ETA: 12:14 - loss: 0.1688 - acc: 0.94 - ETA: 11:59 - loss: 0.1604 - acc: 0.95 - ETA: 11:45 - loss: 0.1527 - acc: 0.95 - ETA: 11:31 - loss: 0.1458 - acc: 0.95 - ETA: 11:17 - loss: 0.1395 - acc: 0.95 - ETA: 11:01 - loss: 0.1336 - acc: 0.96 - ETA: 10:45 - loss: 0.1283 - acc: 0.96 - ETA: 10:31 - loss: 0.1234 - acc: 0.96 - ETA: 10:17 - loss: 0.1188 - acc: 0.96 - ETA: 10:05 - loss: 0.1146 - acc: 0.96 - ETA: 10:00 - loss: 0.1106 - acc: 0.96 - ETA: 9:55 - loss: 0.1069 - acc: 0.9680 - ETA: 9:54 - loss: 0.1035 - acc: 0.969 - ETA: 9:44 - loss: 0.1002 - acc: 0.970 - ETA: 9:33 - loss: 0.0972 - acc: 0.970 - ETA: 9:24 - loss: 0.0943 - acc: 0.971 - ETA: 9:12 - loss: 0.0916 - acc: 0.972 - ETA: 8:59 - loss: 0.0891 - acc: 0.973 - ETA: 8:46 - loss: 0.0867 - acc: 0.974 - ETA: 8:36 - loss: 0.0844 - acc: 0.974 - ETA: 8:28 - loss: 0.0822 - acc: 0.975 - ETA: 8:18 - loss: 0.0802 - acc: 0.976 - ETA: 8:07 - loss: 0.0782 - acc: 0.976 - ETA: 7:58 - loss: 0.0764 - acc: 0.977 - ETA: 7:52 - loss: 0.0746 - acc: 0.977 - ETA: 7:47 - loss: 0.0729 - acc: 0.978 - ETA: 7:37 - loss: 0.0713 - acc: 0.978 - ETA: 7:29 - loss: 0.0697 - acc: 0.979 - ETA: 7:19 - loss: 0.0682 - acc: 0.979 - ETA: 7:07 - loss: 0.0668 - acc: 0.980 - ETA: 6:55 - loss: 0.0655 - acc: 0.980 - ETA: 6:41 - loss: 0.0642 - acc: 0.980 - ETA: 6:28 - loss: 0.0629 - acc: 0.981 - ETA: 6:16 - loss: 0.0617 - acc: 0.981 - ETA: 6:01 - loss: 0.0605 - acc: 0.981 - ETA: 5:46 - loss: 0.0594 - acc: 0.982 - ETA: 5:32 - loss: 0.0583 - acc: 0.982 - ETA: 5:17 - loss: 0.0573 - acc: 0.982 - ETA: 5:02 - loss: 0.0563 - acc: 0.983 - ETA: 4:47 - loss: 0.0553 - acc: 0.983 - ETA: 4:33 - loss: 0.0544 - acc: 0.983 - ETA: 4:18 - loss: 0.0535 - acc: 0.984 - ETA: 4:04 - loss: 0.0526 - acc: 0.984 - ETA: 3:53 - loss: 0.0517 - acc: 0.984 - ETA: 3:39 - loss: 0.0509 - acc: 0.984 - ETA: 3:25 - loss: 0.0501 - acc: 0.985 - ETA: 3:13 - loss: 0.0493 - acc: 0.985 - ETA: 3:00 - loss: 0.0486 - acc: 0.985 - ETA: 2:47 - loss: 0.0479 - acc: 0.985 - ETA: 2:34 - loss: 0.0472 - acc: 0.985 - ETA: 2:22 - loss: 0.0465 - acc: 0.986 - ETA: 2:08 - loss: 0.0458 - acc: 0.986 - ETA: 1:54 - loss: 0.0452 - acc: 0.986 - ETA: 1:40 - loss: 0.0445 - acc: 0.986 - ETA: 1:26 - loss: 0.0439 - acc: 0.986 - ETA: 1:12 - loss: 0.0433 - acc: 0.987 - ETA: 57s - loss: 0.0428 - acc: 0.987 - ETA: 43s - loss: 0.0422 - acc: 0.98 - ETA: 28s - loss: 0.0417 - acc: 0.98 - ETA: 13s - loss: 0.0411 - acc: 0.98 - 1325s 168ms/step - loss: 0.0406 - acc: 0.9878 - val_loss: 1.1921e-07 - val_acc: 1.0000\n",
      "Epoch 2/5\n",
      "7895/7895 [==============================] - ETA: 1:13:05 - loss: 1.1921e-07 - acc: 1.00 - ETA: 1:23:15 - loss: 1.1921e-07 - acc: 1.00 - ETA: 1:14:30 - loss: 1.1921e-07 - acc: 1.00 - ETA: 1:04:57 - loss: 1.1921e-07 - acc: 1.00 - ETA: 56:38 - loss: 1.1921e-07 - acc: 1.0000 - ETA: 50:47 - loss: 1.1921e-07 - acc: 1.00 - ETA: 45:44 - loss: 1.1921e-07 - acc: 1.00 - ETA: 41:51 - loss: 1.1921e-07 - acc: 1.00 - ETA: 39:31 - loss: 1.1921e-07 - acc: 1.00 - ETA: 37:03 - loss: 1.1921e-07 - acc: 1.00 - ETA: 36:32 - loss: 1.1921e-07 - acc: 1.00 - ETA: 34:40 - loss: 1.1921e-07 - acc: 1.00 - ETA: 32:53 - loss: 1.1921e-07 - acc: 1.00 - ETA: 31:20 - loss: 1.1921e-07 - acc: 1.00 - ETA: 30:20 - loss: 1.1921e-07 - acc: 1.00 - ETA: 29:05 - loss: 1.1921e-07 - acc: 1.00 - ETA: 27:42 - loss: 1.1921e-07 - acc: 1.00 - ETA: 26:28 - loss: 1.1921e-07 - acc: 1.00 - ETA: 25:22 - loss: 1.1921e-07 - acc: 1.00 - ETA: 24:35 - loss: 1.1921e-07 - acc: 1.00 - ETA: 23:55 - loss: 1.1921e-07 - acc: 1.00 - ETA: 23:09 - loss: 1.1921e-07 - acc: 1.00 - ETA: 22:19 - loss: 1.1921e-07 - acc: 1.00 - ETA: 21:34 - loss: 1.1921e-07 - acc: 1.00 - ETA: 20:48 - loss: 1.1921e-07 - acc: 1.00 - ETA: 20:26 - loss: 1.1921e-07 - acc: 1.00 - ETA: 19:48 - loss: 1.1921e-07 - acc: 1.00 - ETA: 19:10 - loss: 1.1921e-07 - acc: 1.00 - ETA: 18:37 - loss: 1.1921e-07 - acc: 1.00 - ETA: 18:07 - loss: 1.1921e-07 - acc: 1.00 - ETA: 17:36 - loss: 1.1921e-07 - acc: 1.00 - ETA: 17:06 - loss: 1.1921e-07 - acc: 1.00 - ETA: 16:40 - loss: 1.1921e-07 - acc: 1.00 - ETA: 16:19 - loss: 1.1921e-07 - acc: 1.00 - ETA: 15:50 - loss: 1.1921e-07 - acc: 1.00 - ETA: 15:25 - loss: 1.1921e-07 - acc: 1.00 - ETA: 15:01 - loss: 1.1921e-07 - acc: 1.00 - ETA: 14:34 - loss: 1.1921e-07 - acc: 1.00 - ETA: 14:04 - loss: 1.1921e-07 - acc: 1.00 - ETA: 13:36 - loss: 1.1921e-07 - acc: 1.00 - ETA: 13:10 - loss: 1.1921e-07 - acc: 1.00 - ETA: 12:47 - loss: 1.1921e-07 - acc: 1.00 - ETA: 12:23 - loss: 1.1921e-07 - acc: 1.00 - ETA: 12:01 - loss: 1.1921e-07 - acc: 1.00 - ETA: 11:38 - loss: 1.1921e-07 - acc: 1.00 - ETA: 11:13 - loss: 1.1921e-07 - acc: 1.00 - ETA: 10:47 - loss: 1.1921e-07 - acc: 1.00 - ETA: 10:23 - loss: 1.1921e-07 - acc: 1.00 - ETA: 9:58 - loss: 1.1921e-07 - acc: 1.0000 - ETA: 9:35 - loss: 1.1921e-07 - acc: 1.000 - ETA: 9:11 - loss: 1.1921e-07 - acc: 1.000 - ETA: 8:47 - loss: 1.1921e-07 - acc: 1.000 - ETA: 8:25 - loss: 1.1921e-07 - acc: 1.000 - ETA: 8:03 - loss: 1.1921e-07 - acc: 1.000 - ETA: 7:41 - loss: 1.1921e-07 - acc: 1.000 - ETA: 7:19 - loss: 1.1921e-07 - acc: 1.000 - ETA: 6:57 - loss: 1.1921e-07 - acc: 1.000 - ETA: 6:37 - loss: 1.1921e-07 - acc: 1.000 - ETA: 6:16 - loss: 1.1921e-07 - acc: 1.000 - ETA: 5:56 - loss: 1.1921e-07 - acc: 1.000 - ETA: 5:35 - loss: 1.1921e-07 - acc: 1.000 - ETA: 5:15 - loss: 1.1921e-07 - acc: 1.000 - ETA: 4:55 - loss: 1.1921e-07 - acc: 1.000 - ETA: 4:35 - loss: 1.1921e-07 - acc: 1.000 - ETA: 4:15 - loss: 1.1921e-07 - acc: 1.000 - ETA: 3:55 - loss: 1.1921e-07 - acc: 1.000 - ETA: 3:36 - loss: 1.1921e-07 - acc: 1.000 - ETA: 3:17 - loss: 1.1921e-07 - acc: 1.000 - ETA: 2:58 - loss: 1.1921e-07 - acc: 1.000 - ETA: 2:40 - loss: 1.1921e-07 - acc: 1.000 - ETA: 2:21 - loss: 1.1921e-07 - acc: 1.000 - ETA: 2:04 - loss: 1.1921e-07 - acc: 1.000 - ETA: 1:46 - loss: 1.1921e-07 - acc: 1.000 - ETA: 1:27 - loss: 1.1921e-07 - acc: 1.000 - ETA: 1:09 - loss: 1.1921e-07 - acc: 1.000 - ETA: 52s - loss: 1.1921e-07 - acc: 1.000 - ETA: 34s - loss: 1.1921e-07 - acc: 1.00 - ETA: 16s - loss: 1.1921e-07 - acc: 1.00 - 1574s 199ms/step - loss: 1.1921e-07 - acc: 1.0000 - val_loss: 1.1921e-07 - val_acc: 1.0000\n",
      "Epoch 3/5\n",
      "7895/7895 [==============================] - ETA: 17:50 - loss: 1.1921e-07 - acc: 1.00 - ETA: 22:08 - loss: 1.1921e-07 - acc: 1.00 - ETA: 21:48 - loss: 1.1921e-07 - acc: 1.00 - ETA: 21:29 - loss: 1.1921e-07 - acc: 1.00 - ETA: 23:32 - loss: 1.1921e-07 - acc: 1.00 - ETA: 23:15 - loss: 1.1921e-07 - acc: 1.00 - ETA: 22:43 - loss: 1.1921e-07 - acc: 1.00 - ETA: 22:03 - loss: 1.1921e-07 - acc: 1.00 - ETA: 22:07 - loss: 1.1921e-07 - acc: 1.00 - ETA: 21:25 - loss: 1.1921e-07 - acc: 1.00 - ETA: 21:55 - loss: 1.1921e-07 - acc: 1.00 - ETA: 23:05 - loss: 1.1921e-07 - acc: 1.00 - ETA: 23:17 - loss: 1.1921e-07 - acc: 1.00 - ETA: 23:33 - loss: 1.1921e-07 - acc: 1.00 - ETA: 23:56 - loss: 1.1921e-07 - acc: 1.00 - ETA: 23:43 - loss: 1.1921e-07 - acc: 1.00 - ETA: 23:31 - loss: 1.1921e-07 - acc: 1.00 - ETA: 23:33 - loss: 1.1921e-07 - acc: 1.00 - ETA: 23:19 - loss: 1.1921e-07 - acc: 1.00 - ETA: 22:58 - loss: 1.1921e-07 - acc: 1.00 - ETA: 22:36 - loss: 1.1921e-07 - acc: 1.00 - ETA: 22:09 - loss: 1.1921e-07 - acc: 1.00 - ETA: 22:07 - loss: 1.1921e-07 - acc: 1.00 - ETA: 21:45 - loss: 1.1921e-07 - acc: 1.00 - ETA: 21:31 - loss: 1.1921e-07 - acc: 1.00 - ETA: 21:20 - loss: 1.1921e-07 - acc: 1.00 - ETA: 21:05 - loss: 1.1921e-07 - acc: 1.00 - ETA: 20:42 - loss: 1.1921e-07 - acc: 1.00 - ETA: 20:16 - loss: 1.1921e-07 - acc: 1.00 - ETA: 19:58 - loss: 1.1921e-07 - acc: 1.00 - ETA: 19:37 - loss: 1.1921e-07 - acc: 1.00 - ETA: 19:04 - loss: 1.1921e-07 - acc: 1.00 - ETA: 18:37 - loss: 1.1921e-07 - acc: 1.00 - ETA: 18:15 - loss: 1.1921e-07 - acc: 1.00 - ETA: 17:53 - loss: 1.1921e-07 - acc: 1.00 - ETA: 17:31 - loss: 1.1921e-07 - acc: 1.00 - ETA: 17:04 - loss: 1.1921e-07 - acc: 1.00 - ETA: 16:36 - loss: 1.1921e-07 - acc: 1.00 - ETA: 16:14 - loss: 1.1921e-07 - acc: 1.00 - ETA: 15:49 - loss: 1.1921e-07 - acc: 1.00 - ETA: 15:25 - loss: 1.1921e-07 - acc: 1.00 - ETA: 15:10 - loss: 1.1921e-07 - acc: 1.00 - ETA: 14:47 - loss: 1.1921e-07 - acc: 1.00 - ETA: 14:26 - loss: 1.1921e-07 - acc: 1.00 - ETA: 14:08 - loss: 1.1921e-07 - acc: 1.00 - ETA: 13:45 - loss: 1.1921e-07 - acc: 1.00 - ETA: 13:17 - loss: 1.1921e-07 - acc: 1.00 - ETA: 12:59 - loss: 1.1921e-07 - acc: 1.00 - ETA: 12:38 - loss: 1.1921e-07 - acc: 1.00 - ETA: 12:18 - loss: 1.1921e-07 - acc: 1.00 - ETA: 12:02 - loss: 1.1921e-07 - acc: 1.00 - ETA: 11:32 - loss: 1.1921e-07 - acc: 1.00 - ETA: 11:01 - loss: 1.1921e-07 - acc: 1.00 - ETA: 10:32 - loss: 1.1921e-07 - acc: 1.00 - ETA: 10:04 - loss: 1.1921e-07 - acc: 1.00 - ETA: 9:38 - loss: 1.1921e-07 - acc: 1.0000 - ETA: 9:12 - loss: 1.1921e-07 - acc: 1.000 - ETA: 8:44 - loss: 1.1921e-07 - acc: 1.000 - ETA: 8:16 - loss: 1.1921e-07 - acc: 1.000 - ETA: 7:48 - loss: 1.1921e-07 - acc: 1.000 - ETA: 7:21 - loss: 1.1921e-07 - acc: 1.000 - ETA: 6:53 - loss: 1.1921e-07 - acc: 1.000 - ETA: 6:27 - loss: 1.1921e-07 - acc: 1.000 - ETA: 6:01 - loss: 1.1921e-07 - acc: 1.000 - ETA: 5:35 - loss: 1.1921e-07 - acc: 1.000 - ETA: 5:08 - loss: 1.1921e-07 - acc: 1.000 - ETA: 4:43 - loss: 1.1921e-07 - acc: 1.000 - ETA: 4:18 - loss: 1.1921e-07 - acc: 1.000 - ETA: 3:54 - loss: 1.1921e-07 - acc: 1.000 - ETA: 3:30 - loss: 1.1921e-07 - acc: 1.000 - ETA: 3:06 - loss: 1.1921e-07 - acc: 1.000 - ETA: 2:42 - loss: 1.1921e-07 - acc: 1.000 - ETA: 2:17 - loss: 1.1921e-07 - acc: 1.000 - ETA: 1:54 - loss: 1.1921e-07 - acc: 1.000 - ETA: 1:30 - loss: 1.1921e-07 - acc: 1.000 - ETA: 1:07 - loss: 1.1921e-07 - acc: 1.000 - ETA: 44s - loss: 1.1921e-07 - acc: 1.000 - ETA: 21s - loss: 1.1921e-07 - acc: 1.00 - 1900s 241ms/step - loss: 1.1921e-07 - acc: 1.0000 - val_loss: 1.1921e-07 - val_acc: 1.0000\n",
      "Epoch 4/5\n",
      "7895/7895 [==============================] - ETA: 17:23 - loss: 1.1921e-07 - acc: 1.00 - ETA: 20:08 - loss: 1.1921e-07 - acc: 1.00 - ETA: 19:39 - loss: 1.1921e-07 - acc: 1.00 - ETA: 20:58 - loss: 1.1921e-07 - acc: 1.00 - ETA: 22:23 - loss: 1.1921e-07 - acc: 1.00 - ETA: 22:26 - loss: 1.1921e-07 - acc: 1.00 - ETA: 22:02 - loss: 1.1921e-07 - acc: 1.00 - ETA: 21:27 - loss: 1.1921e-07 - acc: 1.00 - ETA: 21:10 - loss: 1.1921e-07 - acc: 1.00 - ETA: 20:26 - loss: 1.1921e-07 - acc: 1.00 - ETA: 19:45 - loss: 1.1921e-07 - acc: 1.00 - ETA: 19:09 - loss: 1.1921e-07 - acc: 1.00 - ETA: 18:35 - loss: 1.1921e-07 - acc: 1.00 - ETA: 18:03 - loss: 1.1921e-07 - acc: 1.00 - ETA: 17:28 - loss: 1.1921e-07 - acc: 1.00 - ETA: 17:00 - loss: 1.1921e-07 - acc: 1.00 - ETA: 16:32 - loss: 1.1921e-07 - acc: 1.00 - ETA: 16:06 - loss: 1.1921e-07 - acc: 1.00 - ETA: 15:43 - loss: 1.1921e-07 - acc: 1.00 - ETA: 15:39 - loss: 1.1921e-07 - acc: 1.00 - ETA: 15:45 - loss: 1.1921e-07 - acc: 1.00 - ETA: 15:55 - loss: 1.1921e-07 - acc: 1.00 - ETA: 15:42 - loss: 1.1921e-07 - acc: 1.00 - ETA: 15:19 - loss: 1.1921e-07 - acc: 1.00 - ETA: 15:20 - loss: 1.1921e-07 - acc: 1.00 - ETA: 15:14 - loss: 1.1921e-07 - acc: 1.00 - ETA: 14:58 - loss: 1.1921e-07 - acc: 1.00 - ETA: 14:51 - loss: 1.1921e-07 - acc: 1.00 - ETA: 14:45 - loss: 1.1921e-07 - acc: 1.00 - ETA: 14:37 - loss: 1.1921e-07 - acc: 1.00 - ETA: 14:27 - loss: 1.1921e-07 - acc: 1.00 - ETA: 14:14 - loss: 1.1921e-07 - acc: 1.00 - ETA: 14:00 - loss: 1.1921e-07 - acc: 1.00 - ETA: 13:45 - loss: 1.1921e-07 - acc: 1.00 - ETA: 13:28 - loss: 1.1921e-07 - acc: 1.00 - ETA: 13:15 - loss: 1.1921e-07 - acc: 1.00 - ETA: 12:57 - loss: 1.1921e-07 - acc: 1.00 - ETA: 12:41 - loss: 1.1921e-07 - acc: 1.00 - ETA: 12:38 - loss: 1.1921e-07 - acc: 1.00 - ETA: 12:27 - loss: 1.1921e-07 - acc: 1.00 - ETA: 12:10 - loss: 1.1921e-07 - acc: 1.00 - ETA: 11:50 - loss: 1.1921e-07 - acc: 1.00 - ETA: 11:32 - loss: 1.1921e-07 - acc: 1.00 - ETA: 11:14 - loss: 1.1921e-07 - acc: 1.00 - ETA: 10:54 - loss: 1.1921e-07 - acc: 1.00 - ETA: 10:35 - loss: 1.1921e-07 - acc: 1.00 - ETA: 10:15 - loss: 1.1921e-07 - acc: 1.00 - ETA: 9:54 - loss: 1.1921e-07 - acc: 1.0000 - ETA: 9:33 - loss: 1.1921e-07 - acc: 1.000 - ETA: 9:13 - loss: 1.1921e-07 - acc: 1.000 - ETA: 8:52 - loss: 1.1921e-07 - acc: 1.000 - ETA: 8:33 - loss: 1.1921e-07 - acc: 1.000 - ETA: 8:12 - loss: 1.1921e-07 - acc: 1.000 - ETA: 7:53 - loss: 1.1921e-07 - acc: 1.000 - ETA: 7:32 - loss: 1.1921e-07 - acc: 1.000 - ETA: 7:12 - loss: 1.1921e-07 - acc: 1.000 - ETA: 6:52 - loss: 1.1921e-07 - acc: 1.000 - ETA: 6:32 - loss: 1.1921e-07 - acc: 1.000 - ETA: 6:10 - loss: 1.1921e-07 - acc: 1.000 - ETA: 5:49 - loss: 1.1921e-07 - acc: 1.000 - ETA: 5:29 - loss: 1.1921e-07 - acc: 1.000 - ETA: 5:10 - loss: 1.1921e-07 - acc: 1.000 - ETA: 4:49 - loss: 1.1921e-07 - acc: 1.000 - ETA: 4:29 - loss: 1.1921e-07 - acc: 1.000 - ETA: 4:10 - loss: 1.1921e-07 - acc: 1.000 - ETA: 3:50 - loss: 1.1921e-07 - acc: 1.000 - ETA: 3:31 - loss: 1.1921e-07 - acc: 1.000 - ETA: 3:12 - loss: 1.1921e-07 - acc: 1.000 - ETA: 2:54 - loss: 1.1921e-07 - acc: 1.000 - ETA: 2:35 - loss: 1.1921e-07 - acc: 1.000 - ETA: 2:17 - loss: 1.1921e-07 - acc: 1.000 - ETA: 1:59 - loss: 1.1921e-07 - acc: 1.000 - ETA: 1:42 - loss: 1.1921e-07 - acc: 1.000 - ETA: 1:24 - loss: 1.1921e-07 - acc: 1.000 - ETA: 1:07 - loss: 1.1921e-07 - acc: 1.000 - ETA: 50s - loss: 1.1921e-07 - acc: 1.000 - ETA: 32s - loss: 1.1921e-07 - acc: 1.00 - ETA: 15s - loss: 1.1921e-07 - acc: 1.00 - 1424s 180ms/step - loss: 1.1921e-07 - acc: 1.0000 - val_loss: 1.1921e-07 - val_acc: 1.0000\n",
      "Epoch 5/5\n"
     ]
    },
    {
     "name": "stdout",
     "output_type": "stream",
     "text": [
      "7895/7895 [==============================] - ETA: 11:15 - loss: 1.1921e-07 - acc: 1.00 - ETA: 12:17 - loss: 1.1921e-07 - acc: 1.00 - ETA: 12:05 - loss: 1.1921e-07 - acc: 1.00 - ETA: 12:20 - loss: 1.1921e-07 - acc: 1.00 - ETA: 12:12 - loss: 1.1921e-07 - acc: 1.00 - ETA: 12:19 - loss: 1.1921e-07 - acc: 1.00 - ETA: 12:15 - loss: 1.1921e-07 - acc: 1.00 - ETA: 12:17 - loss: 1.1921e-07 - acc: 1.00 - ETA: 12:03 - loss: 1.1921e-07 - acc: 1.00 - ETA: 11:57 - loss: 1.1921e-07 - acc: 1.00 - ETA: 11:46 - loss: 1.1921e-07 - acc: 1.00 - ETA: 11:32 - loss: 1.1921e-07 - acc: 1.00 - ETA: 11:21 - loss: 1.1921e-07 - acc: 1.00 - ETA: 11:12 - loss: 1.1921e-07 - acc: 1.00 - ETA: 11:12 - loss: 1.1921e-07 - acc: 1.00 - ETA: 11:07 - loss: 1.1921e-07 - acc: 1.00 - ETA: 11:14 - loss: 1.1921e-07 - acc: 1.00 - ETA: 11:08 - loss: 1.1921e-07 - acc: 1.00 - ETA: 11:11 - loss: 1.1921e-07 - acc: 1.00 - ETA: 11:07 - loss: 1.1921e-07 - acc: 1.00 - ETA: 11:01 - loss: 1.1921e-07 - acc: 1.00 - ETA: 10:53 - loss: 1.1921e-07 - acc: 1.00 - ETA: 11:10 - loss: 1.1921e-07 - acc: 1.00 - ETA: 11:15 - loss: 1.1921e-07 - acc: 1.00 - ETA: 11:13 - loss: 1.1921e-07 - acc: 1.00 - ETA: 11:16 - loss: 1.1921e-07 - acc: 1.00 - ETA: 11:10 - loss: 1.1921e-07 - acc: 1.00 - ETA: 11:17 - loss: 1.1921e-07 - acc: 1.00 - ETA: 11:42 - loss: 1.1921e-07 - acc: 1.00 - ETA: 11:54 - loss: 1.1921e-07 - acc: 1.00 - ETA: 11:42 - loss: 1.1921e-07 - acc: 1.00 - ETA: 11:42 - loss: 1.1921e-07 - acc: 1.00 - ETA: 11:53 - loss: 1.1921e-07 - acc: 1.00 - ETA: 11:48 - loss: 1.1921e-07 - acc: 1.00 - ETA: 11:34 - loss: 1.1921e-07 - acc: 1.00 - ETA: 11:21 - loss: 1.1921e-07 - acc: 1.00 - ETA: 11:08 - loss: 1.1921e-07 - acc: 1.00 - ETA: 10:53 - loss: 1.1921e-07 - acc: 1.00 - ETA: 10:35 - loss: 1.1921e-07 - acc: 1.00 - ETA: 10:17 - loss: 1.1921e-07 - acc: 1.00 - ETA: 10:00 - loss: 1.1921e-07 - acc: 1.00 - ETA: 9:46 - loss: 1.1921e-07 - acc: 1.0000 - ETA: 9:28 - loss: 1.1921e-07 - acc: 1.000 - ETA: 9:14 - loss: 1.1921e-07 - acc: 1.000 - ETA: 9:03 - loss: 1.1921e-07 - acc: 1.000 - ETA: 8:49 - loss: 1.1921e-07 - acc: 1.000 - ETA: 8:34 - loss: 1.1921e-07 - acc: 1.000 - ETA: 8:23 - loss: 1.1921e-07 - acc: 1.000 - ETA: 8:13 - loss: 1.1921e-07 - acc: 1.000 - ETA: 7:59 - loss: 1.1921e-07 - acc: 1.000 - ETA: 7:41 - loss: 1.1921e-07 - acc: 1.000 - ETA: 7:23 - loss: 1.1921e-07 - acc: 1.000 - ETA: 7:07 - loss: 1.1921e-07 - acc: 1.000 - ETA: 6:53 - loss: 1.1921e-07 - acc: 1.000 - ETA: 6:43 - loss: 1.1921e-07 - acc: 1.000 - ETA: 6:28 - loss: 1.1921e-07 - acc: 1.000 - ETA: 6:11 - loss: 1.1921e-07 - acc: 1.000 - ETA: 5:53 - loss: 1.1921e-07 - acc: 1.000 - ETA: 5:35 - loss: 1.1921e-07 - acc: 1.000 - ETA: 5:18 - loss: 1.1921e-07 - acc: 1.000 - ETA: 5:01 - loss: 1.1921e-07 - acc: 1.000 - ETA: 4:43 - loss: 1.1921e-07 - acc: 1.000 - ETA: 4:25 - loss: 1.1921e-07 - acc: 1.000 - ETA: 4:08 - loss: 1.1921e-07 - acc: 1.000 - ETA: 3:51 - loss: 1.1921e-07 - acc: 1.000 - ETA: 3:33 - loss: 1.1921e-07 - acc: 1.000 - ETA: 3:17 - loss: 1.1921e-07 - acc: 1.000 - ETA: 3:00 - loss: 1.1921e-07 - acc: 1.000 - ETA: 2:44 - loss: 1.1921e-07 - acc: 1.000 - ETA: 2:27 - loss: 1.1921e-07 - acc: 1.000 - ETA: 2:10 - loss: 1.1921e-07 - acc: 1.000 - ETA: 1:53 - loss: 1.1921e-07 - acc: 1.000 - ETA: 1:37 - loss: 1.1921e-07 - acc: 1.000 - ETA: 1:20 - loss: 1.1921e-07 - acc: 1.000 - ETA: 1:04 - loss: 1.1921e-07 - acc: 1.000 - ETA: 47s - loss: 1.1921e-07 - acc: 1.000 - ETA: 31s - loss: 1.1921e-07 - acc: 1.00 - ETA: 15s - loss: 1.1921e-07 - acc: 1.00 - 1403s 178ms/step - loss: 1.1921e-07 - acc: 1.0000 - val_loss: 1.1921e-07 - val_acc: 1.0000\n"
     ]
    }
   ],
   "source": [
    "fashion_train_dropout = fashion_model.fit(X_train, y_train, batch_size=batch_size,epochs=epochs,verbose=1,validation_data=(X_test, y_test))"
   ]
  },
  {
   "cell_type": "code",
   "execution_count": 36,
   "metadata": {},
   "outputs": [
    {
     "name": "stdout",
     "output_type": "stream",
     "text": [
      "3383/3383 [==============================] - ETA: 1: - ETA: 1: - ETA: 1: - ETA: 1: - ETA: 1: - ETA: 1: - ETA: 1: - ETA: 1: - ETA: 1: - ETA: 1: - ETA: 1: - ETA: 1: - ETA: 1: - ETA: 1: - ETA: 1: - ETA: 1: - ETA: 1: - ETA: 1: - ETA: 1: - ETA: 1: - ETA: 1: - ETA: 1: - ETA: 1: - ETA: 1: - ETA: 1: - ETA: 1: - ETA: 1: - ETA: 1: - ETA: 1: - ETA: 1: - ETA: 1: - ETA: 1: - ETA: 59s - ETA: 58 - ETA: 57 - ETA: 56 - ETA: 55 - ETA: 54 - ETA: 53 - ETA: 53 - ETA: 52 - ETA: 51 - ETA: 50 - ETA: 49 - ETA: 48 - ETA: 47 - ETA: 46 - ETA: 46 - ETA: 45 - ETA: 44 - ETA: 43 - ETA: 42 - ETA: 41 - ETA: 41 - ETA: 40 - ETA: 39 - ETA: 38 - ETA: 37 - ETA: 36 - ETA: 36 - ETA: 35 - ETA: 34 - ETA: 33 - ETA: 32 - ETA: 31 - ETA: 31 - ETA: 30 - ETA: 29 - ETA: 28 - ETA: 28 - ETA: 27 - ETA: 26 - ETA: 25 - ETA: 25 - ETA: 24 - ETA: 23 - ETA: 22 - ETA: 22 - ETA: 21 - ETA: 20 - ETA: 19 - ETA: 18 - ETA: 18 - ETA: 17 - ETA: 16 - ETA: 15 - ETA: 14 - ETA: 13 - ETA: 13 - ETA: 12 - ETA: 11 - ETA: 10 - ETA: 10 - ETA: 9 - ETA:  - ETA:  - ETA:  - ETA:  - ETA:  - ETA:  - ETA:  - ETA:  - ETA:  - ETA:  - ETA:  - 83s 25ms/step\n"
     ]
    }
   ],
   "source": [
    "test_eval = fashion_model.evaluate(X_test, y_test, verbose=1)"
   ]
  },
  {
   "cell_type": "code",
   "execution_count": 37,
   "metadata": {},
   "outputs": [
    {
     "name": "stdout",
     "output_type": "stream",
     "text": [
      "Test loss: 1.1920928955078125e-07\n",
      "Test accuracy: 1.0\n"
     ]
    }
   ],
   "source": [
    "print('Test loss:', test_eval[0])\n",
    "print('Test accuracy:', test_eval[1])"
   ]
  },
  {
   "cell_type": "markdown",
   "metadata": {},
   "source": [
    "Conclusions: when we submit predictions in kaggle the accurancy is 0.50. "
   ]
  },
  {
   "cell_type": "markdown",
   "metadata": {},
   "source": [
    "## TRANSFER LEARNING VGG16"
   ]
  },
  {
   "cell_type": "code",
   "execution_count": 8,
   "metadata": {},
   "outputs": [],
   "source": [
    "images=os.listdir(os.path.join(path, 'images_resize_gray'))\n",
    "indx= dataTraining.index"
   ]
  },
  {
   "cell_type": "code",
   "execution_count": 9,
   "metadata": {},
   "outputs": [],
   "source": [
    "from keras.preprocessing import image\n",
    "\n",
    "images_w = []\n",
    "for img in images:\n",
    "    img_path=os.path.join(path, 'images_resize_gray', img)  \n",
    "    img = image.load_img(img_path, target_size=(80, 80))\n",
    "    x = image.img_to_array(img)\n",
    "    x = np.expand_dims(x, axis=0)\n",
    "    x = preprocess_input(x)\n",
    "    images_w.append(x)"
   ]
  },
  {
   "cell_type": "code",
   "execution_count": 10,
   "metadata": {
    "scrolled": true
   },
   "outputs": [
    {
     "data": {
      "text/plain": [
       "(7895, 80, 80, 3)"
      ]
     },
     "execution_count": 10,
     "metadata": {},
     "output_type": "execute_result"
    }
   ],
   "source": [
    "x=images_w\n",
    "x = np.vstack( x )\n",
    "x = x[indx]\n",
    "x.shape"
   ]
  },
  {
   "cell_type": "code",
   "execution_count": 13,
   "metadata": {},
   "outputs": [
    {
     "data": {
      "text/plain": [
       "(7895, 24)"
      ]
     },
     "execution_count": 13,
     "metadata": {},
     "output_type": "execute_result"
    }
   ],
   "source": [
    "y = y_genres\n",
    "y = np.vstack( y )\n",
    "y.shape"
   ]
  },
  {
   "cell_type": "code",
   "execution_count": 14,
   "metadata": {},
   "outputs": [],
   "source": [
    "X_train, X_test, y_train, y_test = train_test_split(x, y, test_size=0.33, random_state=13)"
   ]
  },
  {
   "cell_type": "code",
   "execution_count": 15,
   "metadata": {},
   "outputs": [],
   "source": [
    "model_vgg16 = VGG16(weights='imagenet', include_top=False)"
   ]
  },
  {
   "cell_type": "code",
   "execution_count": 16,
   "metadata": {},
   "outputs": [
    {
     "data": {
      "text/plain": [
       "(5289, 2, 2, 512)"
      ]
     },
     "execution_count": 16,
     "metadata": {},
     "output_type": "execute_result"
    }
   ],
   "source": [
    "X_train_new = model_vgg16.predict(X_train)\n",
    "X_train_new.shape"
   ]
  },
  {
   "cell_type": "code",
   "execution_count": 17,
   "metadata": {},
   "outputs": [
    {
     "data": {
      "text/plain": [
       "(2606, 2, 2, 512)"
      ]
     },
     "execution_count": 17,
     "metadata": {},
     "output_type": "execute_result"
    }
   ],
   "source": [
    "X_test_new = model_vgg16.predict(X_test)\n",
    "X_test_new.shape"
   ]
  },
  {
   "cell_type": "code",
   "execution_count": 18,
   "metadata": {},
   "outputs": [
    {
     "data": {
      "text/plain": [
       "(7895, 2, 2, 512)"
      ]
     },
     "execution_count": 18,
     "metadata": {},
     "output_type": "execute_result"
    }
   ],
   "source": [
    "X_new = model_vgg16.predict(x)\n",
    "X_new.shape"
   ]
  },
  {
   "cell_type": "code",
   "execution_count": 19,
   "metadata": {},
   "outputs": [
    {
     "data": {
      "text/plain": [
       "(3383, 80, 80, 3)"
      ]
     },
     "execution_count": 19,
     "metadata": {},
     "output_type": "execute_result"
    }
   ],
   "source": [
    "indxt = dataTesting.index\n",
    "xt = images_w\n",
    "xt = np.vstack( xt )\n",
    "xt = xt[indxt]\n",
    "xt.shape"
   ]
  },
  {
   "cell_type": "code",
   "execution_count": 20,
   "metadata": {},
   "outputs": [
    {
     "data": {
      "text/plain": [
       "(3383, 2, 2, 512)"
      ]
     },
     "execution_count": 20,
     "metadata": {},
     "output_type": "execute_result"
    }
   ],
   "source": [
    "Xt_new = model_vgg16.predict(xt)\n",
    "Xt_new.shape"
   ]
  },
  {
   "cell_type": "code",
   "execution_count": 28,
   "metadata": {},
   "outputs": [
    {
     "name": "stdout",
     "output_type": "stream",
     "text": [
      "_________________________________________________________________\n",
      "Layer (type)                 Output Shape              Param #   \n",
      "=================================================================\n",
      "flatten_3 (Flatten)          (None, 2048)              0         \n",
      "_________________________________________________________________\n",
      "dense_4 (Dense)              (None, 256)               524544    \n",
      "_________________________________________________________________\n",
      "activation_4 (Activation)    (None, 256)               0         \n",
      "_________________________________________________________________\n",
      "dropout_2 (Dropout)          (None, 256)               0         \n",
      "_________________________________________________________________\n",
      "dense_5 (Dense)              (None, 24)                6168      \n",
      "_________________________________________________________________\n",
      "activation_5 (Activation)    (None, 24)                0         \n",
      "=================================================================\n",
      "Total params: 530,712\n",
      "Trainable params: 530,712\n",
      "Non-trainable params: 0\n",
      "_________________________________________________________________\n"
     ]
    }
   ],
   "source": [
    "model2 = Sequential()\n",
    "model2.add(Flatten(input_shape=(2,2,512)))\n",
    "model2.add(Dense(units=256, input_dim=1))\n",
    "model2.add(Activation('linear'))\n",
    "model2.add(Dropout(0.5))      \n",
    "model2.add(Dense(units=24, input_dim=1))\n",
    "model2.add(Activation('softmax'))\n",
    "model2.summary()"
   ]
  },
  {
   "cell_type": "code",
   "execution_count": 33,
   "metadata": {},
   "outputs": [],
   "source": [
    "model2.compile(loss='categorical_crossentropy', optimizer='SGD', metrics=['accuracy'])"
   ]
  },
  {
   "cell_type": "code",
   "execution_count": 34,
   "metadata": {},
   "outputs": [
    {
     "name": "stdout",
     "output_type": "stream",
     "text": [
      "Epoch 1/50\n",
      " - 81s - loss: 37.8239 - acc: 0.3035\n",
      "Epoch 2/50\n",
      " - 3s - loss: 37.8239 - acc: 0.3035\n",
      "Epoch 3/50\n",
      " - 3s - loss: 37.8260 - acc: 0.3035\n",
      "Epoch 4/50\n",
      " - 4s - loss: 37.8239 - acc: 0.3035\n",
      "Epoch 5/50\n",
      " - 4s - loss: 37.8239 - acc: 0.3035\n",
      "Epoch 6/50\n",
      " - 4s - loss: 37.8260 - acc: 0.3035\n",
      "Epoch 7/50\n",
      " - 4s - loss: 37.8239 - acc: 0.3035\n",
      "Epoch 8/50\n",
      " - 4s - loss: 37.8239 - acc: 0.3035\n",
      "Epoch 9/50\n",
      " - 4s - loss: 37.8239 - acc: 0.3035\n",
      "Epoch 10/50\n",
      " - 4s - loss: 37.8260 - acc: 0.3035\n",
      "Epoch 11/50\n",
      " - 4s - loss: 37.8260 - acc: 0.3035\n",
      "Epoch 12/50\n",
      " - 4s - loss: 37.8260 - acc: 0.3035\n",
      "Epoch 13/50\n",
      " - 4s - loss: 37.8239 - acc: 0.3035\n",
      "Epoch 14/50\n",
      " - 4s - loss: 37.8260 - acc: 0.3035\n",
      "Epoch 15/50\n",
      " - 4s - loss: 37.8239 - acc: 0.3035\n",
      "Epoch 16/50\n",
      " - 4s - loss: 37.8260 - acc: 0.3035\n",
      "Epoch 17/50\n",
      " - 4s - loss: 37.8239 - acc: 0.3035\n",
      "Epoch 18/50\n",
      " - 4s - loss: 37.8260 - acc: 0.3035\n",
      "Epoch 19/50\n",
      " - 4s - loss: 37.8239 - acc: 0.3035\n",
      "Epoch 20/50\n",
      " - 4s - loss: 37.8260 - acc: 0.3035\n",
      "Epoch 21/50\n",
      " - 4s - loss: 37.8239 - acc: 0.3035\n",
      "Epoch 22/50\n",
      " - 3s - loss: 37.8239 - acc: 0.3035\n",
      "Epoch 23/50\n",
      " - 3s - loss: 37.8260 - acc: 0.3035\n",
      "Epoch 24/50\n",
      " - 3s - loss: 37.8239 - acc: 0.3035\n",
      "Epoch 25/50\n",
      " - 3s - loss: 37.8260 - acc: 0.3035\n",
      "Epoch 26/50\n",
      " - 4s - loss: 37.8260 - acc: 0.3035\n",
      "Epoch 27/50\n",
      " - 3s - loss: 37.8260 - acc: 0.3035\n",
      "Epoch 28/50\n",
      " - 3s - loss: 37.8239 - acc: 0.3035\n",
      "Epoch 29/50\n",
      " - 3s - loss: 37.8260 - acc: 0.3035\n",
      "Epoch 30/50\n",
      " - 4s - loss: 37.8260 - acc: 0.3035\n",
      "Epoch 31/50\n",
      " - 3s - loss: 37.8260 - acc: 0.3035\n",
      "Epoch 32/50\n",
      " - 3s - loss: 37.8260 - acc: 0.3035\n",
      "Epoch 33/50\n",
      " - 3s - loss: 37.8260 - acc: 0.3035\n",
      "Epoch 34/50\n",
      " - 3s - loss: 37.8260 - acc: 0.3035\n",
      "Epoch 35/50\n",
      " - 4s - loss: 37.8239 - acc: 0.3035\n",
      "Epoch 36/50\n",
      " - 4s - loss: 37.8239 - acc: 0.3035\n",
      "Epoch 37/50\n",
      " - 3s - loss: 37.8260 - acc: 0.3035\n",
      "Epoch 38/50\n",
      " - 3s - loss: 37.8239 - acc: 0.3035\n",
      "Epoch 39/50\n",
      " - 4s - loss: 37.8260 - acc: 0.3035\n",
      "Epoch 40/50\n",
      " - 3s - loss: 37.8260 - acc: 0.3035\n",
      "Epoch 41/50\n",
      " - 3s - loss: 37.8260 - acc: 0.3035\n",
      "Epoch 42/50\n",
      " - 4s - loss: 37.8260 - acc: 0.3035\n",
      "Epoch 43/50\n",
      " - 3s - loss: 37.8261 - acc: 0.3035\n",
      "Epoch 44/50\n",
      " - 4s - loss: 37.8239 - acc: 0.3035\n",
      "Epoch 45/50\n",
      " - 4s - loss: 37.8239 - acc: 0.3035\n",
      "Epoch 46/50\n",
      " - 3s - loss: 37.8239 - acc: 0.3035\n",
      "Epoch 47/50\n",
      " - 3s - loss: 37.8239 - acc: 0.3035\n",
      "Epoch 48/50\n",
      " - 4s - loss: 37.8239 - acc: 0.3035\n",
      "Epoch 49/50\n",
      " - 3s - loss: 37.8239 - acc: 0.3035\n",
      "Epoch 50/50\n",
      " - 3s - loss: 37.8239 - acc: 0.3035\n"
     ]
    },
    {
     "data": {
      "text/plain": [
       "<keras.callbacks.History at 0x27e55cb0828>"
      ]
     },
     "execution_count": 34,
     "metadata": {},
     "output_type": "execute_result"
    }
   ],
   "source": [
    "model2.fit(X_new, y, epochs=50, verbose = 2)"
   ]
  },
  {
   "cell_type": "code",
   "execution_count": 32,
   "metadata": {},
   "outputs": [],
   "source": [
    "cols = ['p_Action', 'p_Adventure', 'p_Animation', 'p_Biography', 'p_Comedy', 'p_Crime', 'p_Documentary', 'p_Drama', 'p_Family',\n",
    "        'p_Fantasy', 'p_Film-Noir', 'p_History', 'p_Horror', 'p_Music', 'p_Musical', 'p_Mystery', 'p_News', 'p_Romance',\n",
    "        'p_Sci-Fi', 'p_Short', 'p_Sport', 'p_Thriller', 'p_War', 'p_Western']\n",
    "\n",
    "y_pred_test_genres =  model2.predict(Xt_new)\n",
    "\n",
    "pd.DataFrame(y_pred_test_genres, index=dataTesting.index, columns=cols).to_csv('pred_genres_img_RF4.csv', index_label='ID')"
   ]
  },
  {
   "cell_type": "code",
   "execution_count": null,
   "metadata": {},
   "outputs": [],
   "source": []
  }
 ],
 "metadata": {
  "kernelspec": {
   "display_name": "Python 3",
   "language": "python",
   "name": "python3"
  },
  "language_info": {
   "codemirror_mode": {
    "name": "ipython",
    "version": 3
   },
   "file_extension": ".py",
   "mimetype": "text/x-python",
   "name": "python",
   "nbconvert_exporter": "python",
   "pygments_lexer": "ipython3",
   "version": "3.6.4"
  }
 },
 "nbformat": 4,
 "nbformat_minor": 2
}
